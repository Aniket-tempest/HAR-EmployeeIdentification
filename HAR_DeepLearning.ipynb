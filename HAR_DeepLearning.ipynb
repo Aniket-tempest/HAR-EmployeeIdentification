{
  "nbformat": 4,
  "nbformat_minor": 0,
  "metadata": {
    "colab": {
      "provenance": [],
      "authorship_tag": "ABX9TyPX44yLzfmch9EfX/R92kpe",
      "include_colab_link": true
    },
    "kernelspec": {
      "name": "python3",
      "display_name": "Python 3"
    },
    "language_info": {
      "name": "python"
    }
  },
  "cells": [
    {
      "cell_type": "markdown",
      "metadata": {
        "id": "view-in-github",
        "colab_type": "text"
      },
      "source": [
        "<a href=\"https://colab.research.google.com/github/Aniket-tempest/HAR-Employee-Identification/blob/main/HAR_DeepLearning.ipynb\" target=\"_parent\"><img src=\"https://colab.research.google.com/assets/colab-badge.svg\" alt=\"Open In Colab\"/></a>"
      ]
    },
    {
      "cell_type": "code",
      "execution_count": 1,
      "metadata": {
        "id": "V6Y0RGZKGoIy"
      },
      "outputs": [],
      "source": [
        "from google.colab import drive"
      ]
    },
    {
      "cell_type": "code",
      "source": [
        "drive.mount('/content/drive')"
      ],
      "metadata": {
        "colab": {
          "base_uri": "https://localhost:8080/"
        },
        "id": "fVOFmWZuGswX",
        "outputId": "3f968162-f6c3-4024-8e17-5bcee4c48342"
      },
      "execution_count": 2,
      "outputs": [
        {
          "output_type": "stream",
          "name": "stdout",
          "text": [
            "Mounted at /content/drive\n"
          ]
        }
      ]
    },
    {
      "cell_type": "code",
      "source": [
        "import numpy as np\n",
        "import pandas as pd\n",
        "from sklearn.metrics import confusion_matrix\n",
        "import tensorflow as tf\n",
        "from tensorflow.keras import backend as K"
      ],
      "metadata": {
        "id": "9sS0gOR-H0up"
      },
      "execution_count": 3,
      "outputs": []
    },
    {
      "cell_type": "code",
      "source": [
        "np.random.seed(42)\n",
        "tf.random.set_seed(42)"
      ],
      "metadata": {
        "id": "95gr5yC5RkWu"
      },
      "execution_count": 4,
      "outputs": []
    },
    {
      "cell_type": "code",
      "source": [
        "from keras import backend as K\n",
        "from keras.models import Sequential\n",
        "from keras.layers import LSTM, TimeDistributed, Conv1D, MaxPooling1D, Flatten\n",
        "from keras.layers.core import Dense, Dropout"
      ],
      "metadata": {
        "id": "dptRaxg5Ry_R"
      },
      "execution_count": 5,
      "outputs": []
    },
    {
      "cell_type": "code",
      "source": [
        "DATADIR = 'UCI HAR Dataset'"
      ],
      "metadata": {
        "id": "yBQ752TaUnRF"
      },
      "execution_count": 6,
      "outputs": []
    },
    {
      "cell_type": "code",
      "source": [
        "# Raw data signals\n",
        "# Signals are from Accelerometer and Gyroscope\n",
        "# The signals are in x,y,z directions\n",
        "# Sensor signals are filtered to have only body acceleration\n",
        "# excluding the acceleration due to gravity\n",
        "# Triaxial acceleration from the accelerometer is total acceleration\n",
        "SIGNALS = [\n",
        "    \"body_acc_x\",\n",
        "    \"body_acc_y\",\n",
        "    \"body_acc_z\",\n",
        "    \"body_gyro_x\",\n",
        "    \"body_gyro_y\",\n",
        "    \"body_gyro_z\",\n",
        "    \"total_acc_x\",\n",
        "    \"total_acc_y\",\n",
        "    \"total_acc_z\"\n",
        "]"
      ],
      "metadata": {
        "id": "kl6NH_eVUsHW"
      },
      "execution_count": 7,
      "outputs": []
    },
    {
      "cell_type": "code",
      "source": [
        "# Utility function to read the data from csv file\n",
        "def _read_csv(filename):\n",
        "    return pd.read_csv(filename, delim_whitespace=True, header=None)\n",
        "\n",
        "# Utility function to load the signals\n",
        "def load_signals(subset):\n",
        "    signals_data = []\n",
        "\n",
        "    for signal in SIGNALS:\n",
        "        filename = f'drive/MyDrive/{DATADIR}/{subset}/Inertial Signals/{signal}_{subset}.txt'\n",
        "        signals_data.append(\n",
        "            _read_csv(filename).to_numpy()\n",
        "        ) \n",
        "\n",
        "    # Transpose is used to change the dimensionality of the output,\n",
        "    # aggregating the signals by combination of sample/timestep.\n",
        "    # Resultant shape is (7352 train/2947 test samples, 128 timesteps, 9 signals)\n",
        "    return np.transpose(signals_data, (1, 2, 0))"
      ],
      "metadata": {
        "id": "pGI0AOnLVzzP"
      },
      "execution_count": 8,
      "outputs": []
    },
    {
      "cell_type": "code",
      "source": [
        "def load_y(subset):\n",
        "    \"\"\"\n",
        "    The objective that we are trying to predict is a integer, from 1 to 6,\n",
        "    that represents a human activity. We return a binary representation of \n",
        "    every sample objective as a 6 bits vector using One Hot Encoding\n",
        "    (https://pandas.pydata.org/pandas-docs/stable/generated/pandas.get_dummies.html)\n",
        "    \"\"\"\n",
        "    filename = f'drive/MyDrive/{DATADIR}/{subset}/y_{subset}.txt'\n",
        "    y = _read_csv(filename)[0]\n",
        "\n",
        "    return pd.get_dummies(y).to_numpy()"
      ],
      "metadata": {
        "id": "cKzas2UqV6YO"
      },
      "execution_count": 9,
      "outputs": []
    },
    {
      "cell_type": "code",
      "source": [
        "def load_data():\n",
        "    \"\"\"\n",
        "    Obtain the dataset from multiple files.\n",
        "    Returns: X_train, X_test, y_train, y_test\n",
        "    \"\"\"\n",
        "    X_train, X_test = load_signals('train'), load_signals('test')\n",
        "    y_train, y_test = load_y('train'), load_y('test')\n",
        "\n",
        "    return X_train, X_test, y_train, y_test"
      ],
      "metadata": {
        "id": "vlP9th3_V_V1"
      },
      "execution_count": 10,
      "outputs": []
    },
    {
      "cell_type": "code",
      "source": [
        "# Initializing parameters\n",
        "epochs = 30\n",
        "batch_size = 16\n",
        "n_hidden = 32"
      ],
      "metadata": {
        "id": "MjvcCTTwaQde"
      },
      "execution_count": 29,
      "outputs": []
    },
    {
      "cell_type": "code",
      "source": [
        "# Utility function to count the number of classes\n",
        "def _count_classes(y):\n",
        "    return len(set([tuple(category) for category in y]))"
      ],
      "metadata": {
        "id": "PEXMwI5MaTUu"
      },
      "execution_count": 30,
      "outputs": []
    },
    {
      "cell_type": "code",
      "source": [
        "# Loading the train and test data\n",
        "X_train, X_test, Y_train, Y_test = load_data()"
      ],
      "metadata": {
        "id": "3W7nlD1yaWxo"
      },
      "execution_count": 31,
      "outputs": []
    },
    {
      "cell_type": "code",
      "source": [
        "timesteps = len(X_train[0])\n",
        "input_dim = len(X_train[0][0])\n",
        "n_classes = _count_classes(Y_train)\n",
        "\n",
        "print(timesteps)\n",
        "print(input_dim)\n",
        "print(len(X_train))\n",
        "print(n_classes)"
      ],
      "metadata": {
        "colab": {
          "base_uri": "https://localhost:8080/"
        },
        "id": "8-nffyluad5g",
        "outputId": "622f27c7-852e-4f20-e5f3-6b255c897c06"
      },
      "execution_count": 32,
      "outputs": [
        {
          "output_type": "stream",
          "name": "stdout",
          "text": [
            "128\n",
            "9\n",
            "7352\n",
            "6\n"
          ]
        }
      ]
    },
    {
      "cell_type": "code",
      "source": [
        "X_train.shape"
      ],
      "metadata": {
        "colab": {
          "base_uri": "https://localhost:8080/"
        },
        "id": "Qw45Fb6tahFo",
        "outputId": "3ed7a2ed-49a3-4651-fc63-21a1da15c668"
      },
      "execution_count": 15,
      "outputs": [
        {
          "output_type": "execute_result",
          "data": {
            "text/plain": [
              "(7352, 128, 9)"
            ]
          },
          "metadata": {},
          "execution_count": 15
        }
      ]
    },
    {
      "cell_type": "code",
      "source": [
        "# Initiliazing the sequential model\n",
        "model1 = Sequential()\n",
        "# Configuring the parameters\n",
        "model1.add(LSTM(n_hidden, input_shape=(timesteps, input_dim)))\n",
        "# Adding a dropout layer\n",
        "model1.add(Dropout(0.5))\n",
        "# Adding a dense output layer with sigmoid activation\n",
        "model1.add(Dense(n_classes, activation='sigmoid'))\n",
        "model1.summary()"
      ],
      "metadata": {
        "colab": {
          "base_uri": "https://localhost:8080/"
        },
        "id": "DIVKiywdajW8",
        "outputId": "529b8da2-cc6a-4f52-e2b8-2961437694bb"
      },
      "execution_count": 33,
      "outputs": [
        {
          "output_type": "stream",
          "name": "stdout",
          "text": [
            "Model: \"sequential_2\"\n",
            "_________________________________________________________________\n",
            " Layer (type)                Output Shape              Param #   \n",
            "=================================================================\n",
            " lstm_2 (LSTM)               (None, 32)                5376      \n",
            "                                                                 \n",
            " dropout_3 (Dropout)         (None, 32)                0         \n",
            "                                                                 \n",
            " dense_3 (Dense)             (None, 6)                 198       \n",
            "                                                                 \n",
            "=================================================================\n",
            "Total params: 5,574\n",
            "Trainable params: 5,574\n",
            "Non-trainable params: 0\n",
            "_________________________________________________________________\n"
          ]
        }
      ]
    },
    {
      "cell_type": "code",
      "source": [
        "# Compiling the model\n",
        "model1.compile(loss='categorical_crossentropy',\n",
        "              optimizer='rmsprop',\n",
        "              metrics=['accuracy'])"
      ],
      "metadata": {
        "id": "ctH0Xmw0aofS"
      },
      "execution_count": 34,
      "outputs": []
    },
    {
      "cell_type": "code",
      "source": [
        "# Training the model\n",
        "model1.fit(X_train,\n",
        "          Y_train,\n",
        "          batch_size=batch_size,\n",
        "          validation_data=(X_test, Y_test),\n",
        "          epochs=epochs)"
      ],
      "metadata": {
        "colab": {
          "base_uri": "https://localhost:8080/"
        },
        "id": "GrDJc5d5arJ-",
        "outputId": "f35accc4-c4f4-4f7c-d0de-da2f80c953ea"
      },
      "execution_count": 35,
      "outputs": [
        {
          "output_type": "stream",
          "name": "stdout",
          "text": [
            "Epoch 1/30\n",
            "460/460 [==============================] - 27s 53ms/step - loss: 1.0783 - accuracy: 0.5540 - val_loss: 0.9257 - val_accuracy: 0.6206\n",
            "Epoch 2/30\n",
            "460/460 [==============================] - 25s 54ms/step - loss: 0.7802 - accuracy: 0.6491 - val_loss: 0.7082 - val_accuracy: 0.7068\n",
            "Epoch 3/30\n",
            "460/460 [==============================] - 25s 54ms/step - loss: 0.6645 - accuracy: 0.7255 - val_loss: 0.6880 - val_accuracy: 0.7370\n",
            "Epoch 4/30\n",
            "460/460 [==============================] - 24s 52ms/step - loss: 0.5972 - accuracy: 0.7584 - val_loss: 0.5995 - val_accuracy: 0.7713\n",
            "Epoch 5/30\n",
            "460/460 [==============================] - 26s 56ms/step - loss: 0.5267 - accuracy: 0.7969 - val_loss: 0.5931 - val_accuracy: 0.7808\n",
            "Epoch 6/30\n",
            "460/460 [==============================] - 26s 57ms/step - loss: 0.4502 - accuracy: 0.8424 - val_loss: 0.5429 - val_accuracy: 0.8256\n",
            "Epoch 7/30\n",
            "460/460 [==============================] - 26s 56ms/step - loss: 0.3464 - accuracy: 0.8942 - val_loss: 0.4496 - val_accuracy: 0.8663\n",
            "Epoch 8/30\n",
            "460/460 [==============================] - 25s 53ms/step - loss: 0.2838 - accuracy: 0.9106 - val_loss: 0.4597 - val_accuracy: 0.8687\n",
            "Epoch 9/30\n",
            "460/460 [==============================] - 25s 54ms/step - loss: 0.2421 - accuracy: 0.9246 - val_loss: 0.4301 - val_accuracy: 0.8738\n",
            "Epoch 10/30\n",
            "460/460 [==============================] - 25s 55ms/step - loss: 0.2225 - accuracy: 0.9297 - val_loss: 0.3718 - val_accuracy: 0.8683\n",
            "Epoch 11/30\n",
            "460/460 [==============================] - 24s 53ms/step - loss: 0.1942 - accuracy: 0.9362 - val_loss: 0.3385 - val_accuracy: 0.8996\n",
            "Epoch 12/30\n",
            "460/460 [==============================] - 24s 53ms/step - loss: 0.1979 - accuracy: 0.9338 - val_loss: 0.3598 - val_accuracy: 0.8806\n",
            "Epoch 13/30\n",
            "460/460 [==============================] - 24s 53ms/step - loss: 0.1831 - accuracy: 0.9406 - val_loss: 0.3445 - val_accuracy: 0.9091\n",
            "Epoch 14/30\n",
            "460/460 [==============================] - 24s 52ms/step - loss: 0.1811 - accuracy: 0.9416 - val_loss: 0.2778 - val_accuracy: 0.9138\n",
            "Epoch 15/30\n",
            "460/460 [==============================] - 28s 62ms/step - loss: 0.1686 - accuracy: 0.9421 - val_loss: 0.3882 - val_accuracy: 0.8972\n",
            "Epoch 16/30\n",
            "460/460 [==============================] - 23s 51ms/step - loss: 0.1624 - accuracy: 0.9436 - val_loss: 0.3979 - val_accuracy: 0.9053\n",
            "Epoch 17/30\n",
            "460/460 [==============================] - 24s 52ms/step - loss: 0.1710 - accuracy: 0.9448 - val_loss: 0.4158 - val_accuracy: 0.8948\n",
            "Epoch 18/30\n",
            "460/460 [==============================] - 23s 50ms/step - loss: 0.1567 - accuracy: 0.9448 - val_loss: 0.3651 - val_accuracy: 0.9009\n",
            "Epoch 19/30\n",
            "460/460 [==============================] - 27s 58ms/step - loss: 0.1476 - accuracy: 0.9467 - val_loss: 0.5870 - val_accuracy: 0.8928\n",
            "Epoch 20/30\n",
            "460/460 [==============================] - 25s 54ms/step - loss: 0.1614 - accuracy: 0.9468 - val_loss: 0.5550 - val_accuracy: 0.8836\n",
            "Epoch 21/30\n",
            "460/460 [==============================] - 27s 59ms/step - loss: 0.1577 - accuracy: 0.9465 - val_loss: 0.4468 - val_accuracy: 0.8921\n",
            "Epoch 22/30\n",
            "460/460 [==============================] - 25s 54ms/step - loss: 0.1547 - accuracy: 0.9470 - val_loss: 0.5251 - val_accuracy: 0.9077\n",
            "Epoch 23/30\n",
            "460/460 [==============================] - 25s 55ms/step - loss: 0.1575 - accuracy: 0.9470 - val_loss: 0.5358 - val_accuracy: 0.8996\n",
            "Epoch 24/30\n",
            "460/460 [==============================] - 25s 53ms/step - loss: 0.1587 - accuracy: 0.9449 - val_loss: 0.5100 - val_accuracy: 0.8877\n",
            "Epoch 25/30\n",
            "460/460 [==============================] - 24s 52ms/step - loss: 0.1387 - accuracy: 0.9494 - val_loss: 0.4619 - val_accuracy: 0.9084\n",
            "Epoch 26/30\n",
            "460/460 [==============================] - 27s 59ms/step - loss: 0.1494 - accuracy: 0.9489 - val_loss: 0.5563 - val_accuracy: 0.9063\n",
            "Epoch 27/30\n",
            "460/460 [==============================] - 27s 58ms/step - loss: 0.1537 - accuracy: 0.9476 - val_loss: 0.5614 - val_accuracy: 0.9043\n",
            "Epoch 28/30\n",
            "460/460 [==============================] - 27s 60ms/step - loss: 0.1423 - accuracy: 0.9504 - val_loss: 0.5097 - val_accuracy: 0.9057\n",
            "Epoch 29/30\n",
            "460/460 [==============================] - 23s 51ms/step - loss: 0.1493 - accuracy: 0.9490 - val_loss: 0.6875 - val_accuracy: 0.8935\n",
            "Epoch 30/30\n",
            "460/460 [==============================] - 23s 51ms/step - loss: 0.1336 - accuracy: 0.9494 - val_loss: 0.5050 - val_accuracy: 0.8965\n"
          ]
        },
        {
          "output_type": "execute_result",
          "data": {
            "text/plain": [
              "<keras.callbacks.History at 0x7fdc63313f10>"
            ]
          },
          "metadata": {},
          "execution_count": 35
        }
      ]
    },
    {
      "cell_type": "code",
      "source": [
        "# Training Evaluation\n",
        "print(\"LSTM Training Accuracy\")\n",
        "score = model1.evaluate(X_train, Y_train)\n",
        "print(\"Accuracy: \", score[1])\n",
        "print(\"Loss: \", score[0])\n",
        "print(confusion_matrix(np.argmax(Y_train, axis=1), np.argmax(model1.predict(X_train), axis=1)))"
      ],
      "metadata": {
        "colab": {
          "base_uri": "https://localhost:8080/"
        },
        "id": "Hagh5uQEbJOA",
        "outputId": "f84e6482-0cbf-4a4b-9921-24706b963ce1"
      },
      "execution_count": 36,
      "outputs": [
        {
          "output_type": "stream",
          "name": "stdout",
          "text": [
            "LSTM Training Accuracy\n",
            "230/230 [==============================] - 3s 13ms/step - loss: 0.2447 - accuracy: 0.9283\n",
            "Accuracy:  0.9283187985420227\n",
            "Loss:  0.24472583830356598\n",
            "230/230 [==============================] - 3s 13ms/step\n",
            "[[1224    2    0    0    0    0]\n",
            " [   0 1073    0    0    0    0]\n",
            " [   0    5  981    0    0    0]\n",
            " [   0    0    0 1206   80    0]\n",
            " [   0    0    0  257 1117    0]\n",
            " [   0    0    0  183    0 1224]]\n"
          ]
        }
      ]
    },
    {
      "cell_type": "code",
      "source": [
        "# Testing\n",
        "print(\"LSTM Testing Accuracy\")\n",
        "score = model1.evaluate(X_test, Y_test)\n",
        "print(\"Accuracy: \", score[1])\n",
        "print(\"Loss: \", score[0])\n",
        "print(confusion_matrix(np.argmax(Y_test, axis=1), np.argmax(model1.predict(X_test), axis=1)))"
      ],
      "metadata": {
        "colab": {
          "base_uri": "https://localhost:8080/"
        },
        "id": "7gUGlCsQaus0",
        "outputId": "f451c42b-1fcf-4c4b-db1b-2878d9c2fe57"
      },
      "execution_count": 37,
      "outputs": [
        {
          "output_type": "stream",
          "name": "stdout",
          "text": [
            "LSTM Testing Accuracy\n",
            "93/93 [==============================] - 1s 14ms/step - loss: 0.5050 - accuracy: 0.8965\n",
            "Accuracy:  0.8965049386024475\n",
            "Loss:  0.5050035715103149\n",
            "93/93 [==============================] - 1s 13ms/step\n",
            "[[472  15   7   1   1   0]\n",
            " [  1 465   3   1   0   1]\n",
            " [  2  24 392   1   0   1]\n",
            " [  0   0   0 421  70   0]\n",
            " [  1   1   0 109 421   0]\n",
            " [  0   0   0  39  27 471]]\n"
          ]
        }
      ]
    },
    {
      "cell_type": "code",
      "source": [
        "tf.keras.backend.clear_session()"
      ],
      "metadata": {
        "id": "u77_Rv_k5D7b"
      },
      "execution_count": 44,
      "outputs": []
    },
    {
      "cell_type": "code",
      "source": [
        "n_steps, n_length = 4, 32\n",
        "X_train = X_train.reshape((X_train.shape[0], n_steps, n_length, input_dim))\n",
        "X_test = X_test.reshape((X_test.shape[0], n_steps, n_length, input_dim))"
      ],
      "metadata": {
        "id": "Hw5JelqTawQg"
      },
      "execution_count": 45,
      "outputs": []
    },
    {
      "cell_type": "code",
      "source": [
        "# define model\n",
        "# CNN layers for feature extraction on input data combined with LSTMs to support sequence prediction\n",
        "model2 = Sequential()\n",
        "# CNN layers\n",
        "model2.add(TimeDistributed(Conv1D(filters=64, kernel_size=3, activation='relu'), input_shape=(None,n_length,input_dim)))\n",
        "model2.add(TimeDistributed(Conv1D(filters=64, kernel_size=3, activation='relu')))\n",
        "model2.add(TimeDistributed(Dropout(0.5)))\n",
        "model2.add(TimeDistributed(MaxPooling1D(pool_size=2)))\n",
        "model2.add(TimeDistributed(Flatten()))\n",
        "# LSTM layer\n",
        "model2.add(LSTM(n_hidden))\n",
        "model2.add(Dropout(0.5))\n",
        "model2.add(Dense(n_hidden, activation='relu'))\n",
        "model2.add(Dense(n_classes, activation='sigmoid'))\n",
        "model2.summary()"
      ],
      "metadata": {
        "colab": {
          "base_uri": "https://localhost:8080/"
        },
        "id": "fxe30eDhazPy",
        "outputId": "9f79c507-cc5b-42c2-f897-4ce5a27e6cc4"
      },
      "execution_count": 46,
      "outputs": [
        {
          "output_type": "stream",
          "name": "stdout",
          "text": [
            "Model: \"sequential\"\n",
            "_________________________________________________________________\n",
            " Layer (type)                Output Shape              Param #   \n",
            "=================================================================\n",
            " time_distributed (TimeDistr  (None, None, 30, 64)     1792      \n",
            " ibuted)                                                         \n",
            "                                                                 \n",
            " time_distributed_1 (TimeDis  (None, None, 28, 64)     12352     \n",
            " tributed)                                                       \n",
            "                                                                 \n",
            " time_distributed_2 (TimeDis  (None, None, 28, 64)     0         \n",
            " tributed)                                                       \n",
            "                                                                 \n",
            " time_distributed_3 (TimeDis  (None, None, 14, 64)     0         \n",
            " tributed)                                                       \n",
            "                                                                 \n",
            " time_distributed_4 (TimeDis  (None, None, 896)        0         \n",
            " tributed)                                                       \n",
            "                                                                 \n",
            " lstm (LSTM)                 (None, 32)                118912    \n",
            "                                                                 \n",
            " dropout_1 (Dropout)         (None, 32)                0         \n",
            "                                                                 \n",
            " dense (Dense)               (None, 32)                1056      \n",
            "                                                                 \n",
            " dense_1 (Dense)             (None, 6)                 198       \n",
            "                                                                 \n",
            "=================================================================\n",
            "Total params: 134,310\n",
            "Trainable params: 134,310\n",
            "Non-trainable params: 0\n",
            "_________________________________________________________________\n"
          ]
        }
      ]
    },
    {
      "cell_type": "code",
      "source": [
        "model2.compile(loss='categorical_crossentropy', optimizer='adam', metrics=['accuracy'])"
      ],
      "metadata": {
        "id": "I5fedMjIa5mo"
      },
      "execution_count": 40,
      "outputs": []
    },
    {
      "cell_type": "code",
      "source": [
        "# Training the model\n",
        "model2.fit(X_train,\n",
        "          Y_train,\n",
        "          batch_size=batch_size,\n",
        "          validation_data=(X_test, Y_test),\n",
        "          epochs=epochs)"
      ],
      "metadata": {
        "colab": {
          "base_uri": "https://localhost:8080/"
        },
        "id": "ZIqb5jYya7Ty",
        "outputId": "b0cad63a-5988-4a79-eb26-5513c9ac2713"
      },
      "execution_count": 41,
      "outputs": [
        {
          "output_type": "stream",
          "name": "stdout",
          "text": [
            "Epoch 1/30\n",
            "460/460 [==============================] - 47s 97ms/step - loss: 0.5374 - accuracy: 0.7828 - val_loss: 0.4242 - val_accuracy: 0.8582\n",
            "Epoch 2/30\n",
            "460/460 [==============================] - 10s 23ms/step - loss: 0.2019 - accuracy: 0.9294 - val_loss: 0.2971 - val_accuracy: 0.9006\n",
            "Epoch 3/30\n",
            "460/460 [==============================] - 10s 21ms/step - loss: 0.1490 - accuracy: 0.9444 - val_loss: 0.3459 - val_accuracy: 0.8972\n",
            "Epoch 4/30\n",
            "460/460 [==============================] - 10s 21ms/step - loss: 0.1312 - accuracy: 0.9467 - val_loss: 0.3414 - val_accuracy: 0.8996\n",
            "Epoch 5/30\n",
            "460/460 [==============================] - 10s 21ms/step - loss: 0.1264 - accuracy: 0.9502 - val_loss: 0.5524 - val_accuracy: 0.8504\n",
            "Epoch 6/30\n",
            "460/460 [==============================] - 10s 21ms/step - loss: 0.1163 - accuracy: 0.9502 - val_loss: 0.3347 - val_accuracy: 0.9094\n",
            "Epoch 7/30\n",
            "460/460 [==============================] - 11s 24ms/step - loss: 0.1129 - accuracy: 0.9516 - val_loss: 0.4192 - val_accuracy: 0.9030\n",
            "Epoch 8/30\n",
            "460/460 [==============================] - 10s 22ms/step - loss: 0.1268 - accuracy: 0.9484 - val_loss: 0.3849 - val_accuracy: 0.8968\n",
            "Epoch 9/30\n",
            "460/460 [==============================] - 10s 21ms/step - loss: 0.1131 - accuracy: 0.9536 - val_loss: 0.3764 - val_accuracy: 0.9060\n",
            "Epoch 10/30\n",
            "460/460 [==============================] - 10s 21ms/step - loss: 0.1109 - accuracy: 0.9553 - val_loss: 0.3294 - val_accuracy: 0.9199\n",
            "Epoch 11/30\n",
            "460/460 [==============================] - 10s 22ms/step - loss: 0.1083 - accuracy: 0.9558 - val_loss: 0.3782 - val_accuracy: 0.9175\n",
            "Epoch 12/30\n",
            "460/460 [==============================] - 10s 21ms/step - loss: 0.0974 - accuracy: 0.9562 - val_loss: 0.4069 - val_accuracy: 0.9108\n",
            "Epoch 13/30\n",
            "460/460 [==============================] - 10s 22ms/step - loss: 0.1081 - accuracy: 0.9531 - val_loss: 0.4091 - val_accuracy: 0.9006\n",
            "Epoch 14/30\n",
            "460/460 [==============================] - 10s 21ms/step - loss: 0.0968 - accuracy: 0.9570 - val_loss: 0.5198 - val_accuracy: 0.9084\n",
            "Epoch 15/30\n",
            "460/460 [==============================] - 10s 22ms/step - loss: 0.0826 - accuracy: 0.9623 - val_loss: 0.4885 - val_accuracy: 0.9050\n",
            "Epoch 16/30\n",
            "460/460 [==============================] - 10s 23ms/step - loss: 0.0821 - accuracy: 0.9618 - val_loss: 0.4330 - val_accuracy: 0.9070\n",
            "Epoch 17/30\n",
            "460/460 [==============================] - 10s 21ms/step - loss: 0.0884 - accuracy: 0.9610 - val_loss: 0.4353 - val_accuracy: 0.9152\n",
            "Epoch 18/30\n",
            "460/460 [==============================] - 10s 21ms/step - loss: 0.0802 - accuracy: 0.9618 - val_loss: 0.4311 - val_accuracy: 0.9253\n",
            "Epoch 19/30\n",
            "460/460 [==============================] - 10s 21ms/step - loss: 0.0714 - accuracy: 0.9678 - val_loss: 0.4803 - val_accuracy: 0.9145\n",
            "Epoch 20/30\n",
            "460/460 [==============================] - 10s 22ms/step - loss: 0.0739 - accuracy: 0.9678 - val_loss: 0.6692 - val_accuracy: 0.8989\n",
            "Epoch 21/30\n",
            "460/460 [==============================] - 10s 21ms/step - loss: 0.0918 - accuracy: 0.9612 - val_loss: 0.4278 - val_accuracy: 0.9223\n",
            "Epoch 22/30\n",
            "460/460 [==============================] - 10s 21ms/step - loss: 0.0665 - accuracy: 0.9667 - val_loss: 0.4447 - val_accuracy: 0.9243\n",
            "Epoch 23/30\n",
            "460/460 [==============================] - 10s 22ms/step - loss: 0.0653 - accuracy: 0.9684 - val_loss: 0.5653 - val_accuracy: 0.9179\n",
            "Epoch 24/30\n",
            "460/460 [==============================] - 11s 23ms/step - loss: 0.0666 - accuracy: 0.9683 - val_loss: 0.5075 - val_accuracy: 0.9182\n",
            "Epoch 25/30\n",
            "460/460 [==============================] - 10s 22ms/step - loss: 0.0747 - accuracy: 0.9676 - val_loss: 0.4007 - val_accuracy: 0.9206\n",
            "Epoch 26/30\n",
            "460/460 [==============================] - 13s 27ms/step - loss: 0.0659 - accuracy: 0.9701 - val_loss: 0.4774 - val_accuracy: 0.9060\n",
            "Epoch 27/30\n",
            "460/460 [==============================] - 10s 23ms/step - loss: 0.0735 - accuracy: 0.9687 - val_loss: 0.4666 - val_accuracy: 0.9152\n",
            "Epoch 28/30\n",
            "460/460 [==============================] - 10s 22ms/step - loss: 0.0615 - accuracy: 0.9748 - val_loss: 0.5335 - val_accuracy: 0.9111\n",
            "Epoch 29/30\n",
            "460/460 [==============================] - 10s 21ms/step - loss: 0.0559 - accuracy: 0.9739 - val_loss: 0.5257 - val_accuracy: 0.9131\n",
            "Epoch 30/30\n",
            "460/460 [==============================] - 10s 21ms/step - loss: 0.0632 - accuracy: 0.9718 - val_loss: 0.8079 - val_accuracy: 0.8633\n"
          ]
        },
        {
          "output_type": "execute_result",
          "data": {
            "text/plain": [
              "<keras.callbacks.History at 0x7fdc5e664640>"
            ]
          },
          "metadata": {},
          "execution_count": 41
        }
      ]
    },
    {
      "cell_type": "code",
      "source": [
        "# Training evaluation\n",
        "print(\"CNN-LSTM Training Accuracy\")\n",
        "score = model2.evaluate(X_train, Y_train)\n",
        "print(\"Accuracy: \", score[1])\n",
        "print(\"Loss: \", score[0])\n",
        "print(confusion_matrix(np.argmax(Y_train, axis=1), np.argmax(model2.predict(X_train), axis=1)))"
      ],
      "metadata": {
        "id": "TsgcBoavfS6e",
        "colab": {
          "base_uri": "https://localhost:8080/"
        },
        "outputId": "2c1d971f-9ec9-486b-f451-9e21ceddc3ad"
      },
      "execution_count": 42,
      "outputs": [
        {
          "output_type": "stream",
          "name": "stdout",
          "text": [
            "CNN-LSTM Training Accuracy\n",
            "230/230 [==============================] - 2s 8ms/step - loss: 0.1060 - accuracy: 0.9614\n",
            "Accuracy:  0.9613710641860962\n",
            "Loss:  0.10595442354679108\n",
            "230/230 [==============================] - 3s 9ms/step\n",
            "[[1226    0    0    0    0    0]\n",
            " [  63 1010    0    0    0    0]\n",
            " [   2    0  984    0    0    0]\n",
            " [   2    0    0 1218   66    0]\n",
            " [   0    0    0  151 1223    0]\n",
            " [   0    0    0    0    0 1407]]\n"
          ]
        }
      ]
    },
    {
      "cell_type": "code",
      "source": [
        "# Testing\n",
        "print(\"CNN-LSTM Testing Accuracy\")\n",
        "score = model2.evaluate(X_test, Y_test)\n",
        "print(\"Accuracy: \", score[1])\n",
        "print(\"Loss: \", score[0])\n",
        "print(confusion_matrix(np.argmax(Y_test, axis=1), np.argmax(model2.predict(X_test), axis=1)))"
      ],
      "metadata": {
        "colab": {
          "base_uri": "https://localhost:8080/"
        },
        "id": "QBEhi0A9bAnC",
        "outputId": "1bdb485b-b7d4-4d12-8a61-4ba285991e80"
      },
      "execution_count": 43,
      "outputs": [
        {
          "output_type": "stream",
          "name": "stdout",
          "text": [
            "CNN-LSTM Testing Accuracy\n",
            "93/93 [==============================] - 1s 9ms/step - loss: 0.8079 - accuracy: 0.8633\n",
            "Accuracy:  0.8632507920265198\n",
            "Loss:  0.8079065680503845\n",
            "93/93 [==============================] - 1s 11ms/step\n",
            "[[472   0  24   0   0   0]\n",
            " [127 312  32   0   0   0]\n",
            " [  9   0 411   0   0   0]\n",
            " [  4  24   0 423  40   0]\n",
            " [  1   0   0 122 409   0]\n",
            " [  0  20   0   0   0 517]]\n"
          ]
        }
      ]
    }
  ]
}