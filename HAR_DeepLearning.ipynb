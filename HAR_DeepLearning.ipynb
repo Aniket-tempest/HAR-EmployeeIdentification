{
  "nbformat": 4,
  "nbformat_minor": 0,
  "metadata": {
    "colab": {
      "provenance": [],
      "collapsed_sections": [
        "DB-KuMV-9zgD"
      ],
      "include_colab_link": true
    },
    "kernelspec": {
      "name": "python3",
      "display_name": "Python 3"
    },
    "language_info": {
      "name": "python"
    },
    "accelerator": "GPU",
    "gpuClass": "standard"
  },
  "cells": [
    {
      "cell_type": "markdown",
      "metadata": {
        "id": "view-in-github",
        "colab_type": "text"
      },
      "source": [
        "<a href=\"https://colab.research.google.com/github/Aniket-tempest/HAR-Employee-Identification/blob/main/HAR_DeepLearning.ipynb\" target=\"_parent\"><img src=\"https://colab.research.google.com/assets/colab-badge.svg\" alt=\"Open In Colab\"/></a>"
      ]
    },
    {
      "cell_type": "code",
      "source": [
        "from google.colab import drive\n",
        "drive.mount('/content/drive')"
      ],
      "metadata": {
        "colab": {
          "base_uri": "https://localhost:8080/"
        },
        "id": "MKjC-fSW5Qcp",
        "outputId": "cf0183a3-1cec-4b89-cad3-78d3cc5b4ba4"
      },
      "execution_count": null,
      "outputs": [
        {
          "output_type": "stream",
          "name": "stdout",
          "text": [
            "Mounted at /content/drive\n"
          ]
        }
      ]
    },
    {
      "cell_type": "code",
      "source": [
        "import numpy as np\n",
        "import pandas as pd\n",
        "from sklearn.preprocessing import MinMaxScaler\n",
        "from sklearn.metrics import confusion_matrix, classification_report\n",
        "import tensorflow as tf\n",
        "from tensorflow.keras import backend as K"
      ],
      "metadata": {
        "id": "9sS0gOR-H0up"
      },
      "execution_count": 103,
      "outputs": []
    },
    {
      "cell_type": "code",
      "source": [
        "np.random.seed(42)\n",
        "tf.random.set_seed(42)"
      ],
      "metadata": {
        "id": "95gr5yC5RkWu"
      },
      "execution_count": null,
      "outputs": []
    },
    {
      "cell_type": "code",
      "source": [
        "from keras import backend as K\n",
        "from keras.models import Sequential, load_model\n",
        "from keras.layers import LSTM, TimeDistributed, Conv1D, MaxPooling1D, Flatten\n",
        "from keras.layers.core import Dense, Dropout"
      ],
      "metadata": {
        "id": "dptRaxg5Ry_R"
      },
      "execution_count": null,
      "outputs": []
    },
    {
      "cell_type": "code",
      "source": [
        "DATADIR = 'UCI HAR Dataset'"
      ],
      "metadata": {
        "id": "yBQ752TaUnRF"
      },
      "execution_count": 35,
      "outputs": []
    },
    {
      "cell_type": "code",
      "source": [
        "# Raw data signals\n",
        "# Signals are from Accelerometer and Gyroscope\n",
        "# The signals are in x,y,z directions\n",
        "# Sensor signals are filtered to have only body acceleration\n",
        "# excluding the acceleration due to gravity\n",
        "# Triaxial acceleration from the accelerometer is total acceleration\n",
        "SIGNALS = [\n",
        "    \"body_acc_x\",\n",
        "    \"body_acc_y\",\n",
        "    \"body_acc_z\",\n",
        "    \"body_gyro_x\",\n",
        "    \"body_gyro_y\",\n",
        "    \"body_gyro_z\",\n",
        "    \"total_acc_x\",\n",
        "    \"total_acc_y\",\n",
        "    \"total_acc_z\"\n",
        "]"
      ],
      "metadata": {
        "id": "kl6NH_eVUsHW"
      },
      "execution_count": 36,
      "outputs": []
    },
    {
      "cell_type": "code",
      "source": [
        "# Utility function to read the data from csv file\n",
        "def _read_csv(filename):\n",
        "    return pd.read_csv(filename, delim_whitespace=True, header=None)\n",
        "\n",
        "# Utility function to load the signals\n",
        "def load_signals(subset):\n",
        "    signals_data = []\n",
        "\n",
        "    for signal in SIGNALS:\n",
        "        filename = f'drive/MyDrive/{DATADIR}/{subset}/Inertial Signals/{signal}_{subset}.txt'\n",
        "        signals_data.append(\n",
        "            _read_csv(filename).to_numpy()\n",
        "        ) \n",
        "\n",
        "    # Transpose is used to change the dimensionality of the output,\n",
        "    # aggregating the signals by combination of sample/timestep.\n",
        "    # Resultant shape is (7352 train/2947 test samples, 128 timesteps, 9 signals)\n",
        "    return np.transpose(signals_data, (1, 2, 0))"
      ],
      "metadata": {
        "id": "pGI0AOnLVzzP"
      },
      "execution_count": 37,
      "outputs": []
    },
    {
      "cell_type": "code",
      "source": [
        "def load_y(subset):\n",
        "    \"\"\"\n",
        "    The objective that we are trying to predict is a integer, from 1 to 6,\n",
        "    that represents a human activity. We return a binary representation of \n",
        "    every sample objective as a 6 bits vector using One Hot Encoding\n",
        "    (https://pandas.pydata.org/pandas-docs/stable/generated/pandas.get_dummies.html)\n",
        "    \"\"\"\n",
        "    filename = f'drive/MyDrive/{DATADIR}/{subset}/y_{subset}.txt'\n",
        "    y = _read_csv(filename)[0]\n",
        "\n",
        "    return pd.get_dummies(y).to_numpy()"
      ],
      "metadata": {
        "id": "cKzas2UqV6YO"
      },
      "execution_count": 38,
      "outputs": []
    },
    {
      "cell_type": "code",
      "source": [
        "def load_data():\n",
        "    \"\"\"\n",
        "    Obtain the dataset from multiple files.\n",
        "    Returns: X_train, X_test, y_train, y_test\n",
        "    \"\"\"\n",
        "    X_train, X_test = load_signals('train'), load_signals('test')\n",
        "    y_train, y_test = load_y('train'), load_y('test')\n",
        "\n",
        "    return X_train, X_test, y_train, y_test"
      ],
      "metadata": {
        "id": "vlP9th3_V_V1"
      },
      "execution_count": 39,
      "outputs": []
    },
    {
      "cell_type": "code",
      "source": [
        "# Initializing parameters\n",
        "epochs = 30\n",
        "batch_size = 16\n",
        "n_hidden = 32"
      ],
      "metadata": {
        "id": "MjvcCTTwaQde"
      },
      "execution_count": 45,
      "outputs": []
    },
    {
      "cell_type": "code",
      "source": [
        "# Utility function to count the number of classes\n",
        "def _count_classes(y):\n",
        "    return len(set([tuple(category) for category in y]))"
      ],
      "metadata": {
        "id": "PEXMwI5MaTUu"
      },
      "execution_count": 46,
      "outputs": []
    },
    {
      "cell_type": "code",
      "source": [
        "# Loading the train and test data\n",
        "X_train, X_test, Y_train, Y_test = load_data()"
      ],
      "metadata": {
        "id": "3W7nlD1yaWxo"
      },
      "execution_count": 40,
      "outputs": []
    },
    {
      "cell_type": "code",
      "source": [
        "timesteps = len(X_train[0])\n",
        "input_dim = len(X_train[0][0])\n",
        "n_classes = _count_classes(Y_train)\n",
        "\n",
        "print(timesteps)\n",
        "print(input_dim)\n",
        "print(len(X_train))\n",
        "print(n_classes)"
      ],
      "metadata": {
        "colab": {
          "base_uri": "https://localhost:8080/"
        },
        "id": "8-nffyluad5g",
        "outputId": "1bf64788-243a-474d-b723-9c34678a131f"
      },
      "execution_count": 47,
      "outputs": [
        {
          "output_type": "stream",
          "name": "stdout",
          "text": [
            "128\n",
            "9\n",
            "7352\n",
            "6\n"
          ]
        }
      ]
    },
    {
      "cell_type": "code",
      "source": [
        "X_train.shape"
      ],
      "metadata": {
        "colab": {
          "base_uri": "https://localhost:8080/"
        },
        "id": "Qw45Fb6tahFo",
        "outputId": "c43d5011-7e61-46de-f2fb-fc6a4a479b32"
      },
      "execution_count": null,
      "outputs": [
        {
          "output_type": "execute_result",
          "data": {
            "text/plain": [
              "(7352, 128, 9)"
            ]
          },
          "metadata": {},
          "execution_count": 14
        }
      ]
    },
    {
      "cell_type": "markdown",
      "source": [
        "## LSTM"
      ],
      "metadata": {
        "id": "DB-KuMV-9zgD"
      }
    },
    {
      "cell_type": "code",
      "source": [
        "# Initiliazing the sequential model\n",
        "model1 = Sequential()\n",
        "# Configuring the parameters\n",
        "model1.add(LSTM(n_hidden, input_shape=(timesteps, input_dim)))\n",
        "# Adding a dropout layer\n",
        "model1.add(Dropout(0.5))\n",
        "# Adding a dense output layer with sigmoid activation\n",
        "model1.add(Dense(n_classes, activation='softmax'))\n",
        "model1.summary()"
      ],
      "metadata": {
        "colab": {
          "base_uri": "https://localhost:8080/"
        },
        "id": "DIVKiywdajW8",
        "outputId": "7d583977-a8e3-4312-baf6-60a9eeb07291"
      },
      "execution_count": null,
      "outputs": [
        {
          "output_type": "stream",
          "name": "stdout",
          "text": [
            "Model: \"sequential\"\n",
            "_________________________________________________________________\n",
            " Layer (type)                Output Shape              Param #   \n",
            "=================================================================\n",
            " lstm (LSTM)                 (None, 32)                5376      \n",
            "                                                                 \n",
            " dropout (Dropout)           (None, 32)                0         \n",
            "                                                                 \n",
            " dense (Dense)               (None, 6)                 198       \n",
            "                                                                 \n",
            "=================================================================\n",
            "Total params: 5,574\n",
            "Trainable params: 5,574\n",
            "Non-trainable params: 0\n",
            "_________________________________________________________________\n"
          ]
        }
      ]
    },
    {
      "cell_type": "code",
      "source": [
        "# Compiling the model\n",
        "model1.compile(loss='categorical_crossentropy',\n",
        "              optimizer='adam',\n",
        "              metrics=['accuracy'])"
      ],
      "metadata": {
        "id": "ctH0Xmw0aofS"
      },
      "execution_count": null,
      "outputs": []
    },
    {
      "cell_type": "code",
      "source": [
        "# Training the model\n",
        "model1.fit(X_train,\n",
        "          Y_train,\n",
        "          batch_size=batch_size,\n",
        "          validation_data=(X_test, Y_test),\n",
        "          epochs=epochs)"
      ],
      "metadata": {
        "colab": {
          "base_uri": "https://localhost:8080/"
        },
        "id": "GrDJc5d5arJ-",
        "outputId": "e310ea6a-c3ed-40ca-c7ed-d800c99cee7f"
      },
      "execution_count": null,
      "outputs": [
        {
          "output_type": "stream",
          "name": "stdout",
          "text": [
            "Epoch 1/30\n",
            "460/460 [==============================] - 11s 10ms/step - loss: 1.2036 - accuracy: 0.4978 - val_loss: 0.9397 - val_accuracy: 0.6108\n",
            "Epoch 2/30\n",
            "460/460 [==============================] - 5s 10ms/step - loss: 0.8523 - accuracy: 0.6182 - val_loss: 0.7940 - val_accuracy: 0.6335\n",
            "Epoch 3/30\n",
            "460/460 [==============================] - 4s 9ms/step - loss: 0.7212 - accuracy: 0.6692 - val_loss: 0.7214 - val_accuracy: 0.6929\n",
            "Epoch 4/30\n",
            "460/460 [==============================] - 4s 9ms/step - loss: 0.5840 - accuracy: 0.7448 - val_loss: 0.6216 - val_accuracy: 0.7628\n",
            "Epoch 5/30\n",
            "460/460 [==============================] - 4s 9ms/step - loss: 0.4603 - accuracy: 0.8166 - val_loss: 0.5666 - val_accuracy: 0.7893\n",
            "Epoch 6/30\n",
            "460/460 [==============================] - 4s 9ms/step - loss: 0.6042 - accuracy: 0.7727 - val_loss: 0.6736 - val_accuracy: 0.7608\n",
            "Epoch 7/30\n",
            "460/460 [==============================] - 4s 9ms/step - loss: 0.4634 - accuracy: 0.8124 - val_loss: 0.5875 - val_accuracy: 0.7944\n",
            "Epoch 8/30\n",
            "460/460 [==============================] - 4s 9ms/step - loss: 0.3546 - accuracy: 0.8686 - val_loss: 0.6931 - val_accuracy: 0.8293\n",
            "Epoch 9/30\n",
            "460/460 [==============================] - 4s 9ms/step - loss: 0.3292 - accuracy: 0.8875 - val_loss: 0.4327 - val_accuracy: 0.8789\n",
            "Epoch 10/30\n",
            "460/460 [==============================] - 5s 10ms/step - loss: 0.2447 - accuracy: 0.9172 - val_loss: 0.4350 - val_accuracy: 0.8850\n",
            "Epoch 11/30\n",
            "460/460 [==============================] - 4s 9ms/step - loss: 0.2726 - accuracy: 0.9056 - val_loss: 0.4162 - val_accuracy: 0.8907\n",
            "Epoch 12/30\n",
            "460/460 [==============================] - 4s 9ms/step - loss: 0.3409 - accuracy: 0.8788 - val_loss: 0.3778 - val_accuracy: 0.8873\n",
            "Epoch 13/30\n",
            "460/460 [==============================] - 4s 9ms/step - loss: 0.2230 - accuracy: 0.9200 - val_loss: 0.3895 - val_accuracy: 0.8823\n",
            "Epoch 14/30\n",
            "460/460 [==============================] - 4s 9ms/step - loss: 0.1980 - accuracy: 0.9313 - val_loss: 0.3792 - val_accuracy: 0.8843\n",
            "Epoch 15/30\n",
            "460/460 [==============================] - 4s 9ms/step - loss: 0.2034 - accuracy: 0.9272 - val_loss: 0.3630 - val_accuracy: 0.8968\n",
            "Epoch 16/30\n",
            "460/460 [==============================] - 5s 11ms/step - loss: 0.1692 - accuracy: 0.9384 - val_loss: 0.3927 - val_accuracy: 0.8907\n",
            "Epoch 17/30\n",
            "460/460 [==============================] - 4s 10ms/step - loss: 0.2368 - accuracy: 0.9188 - val_loss: 0.3439 - val_accuracy: 0.8928\n",
            "Epoch 18/30\n",
            "460/460 [==============================] - 4s 9ms/step - loss: 0.1626 - accuracy: 0.9412 - val_loss: 0.3555 - val_accuracy: 0.8962\n",
            "Epoch 19/30\n",
            "460/460 [==============================] - 4s 9ms/step - loss: 0.1528 - accuracy: 0.9430 - val_loss: 0.3347 - val_accuracy: 0.8968\n",
            "Epoch 20/30\n",
            "460/460 [==============================] - 4s 9ms/step - loss: 0.1621 - accuracy: 0.9397 - val_loss: 0.3099 - val_accuracy: 0.9077\n",
            "Epoch 21/30\n",
            "460/460 [==============================] - 4s 9ms/step - loss: 0.1472 - accuracy: 0.9475 - val_loss: 0.3102 - val_accuracy: 0.9046\n",
            "Epoch 22/30\n",
            "460/460 [==============================] - 4s 9ms/step - loss: 0.1431 - accuracy: 0.9440 - val_loss: 0.3308 - val_accuracy: 0.9057\n",
            "Epoch 23/30\n",
            "460/460 [==============================] - 4s 9ms/step - loss: 0.2149 - accuracy: 0.9319 - val_loss: 0.3544 - val_accuracy: 0.8982\n",
            "Epoch 24/30\n",
            "460/460 [==============================] - 5s 11ms/step - loss: 0.1583 - accuracy: 0.9411 - val_loss: 0.3440 - val_accuracy: 0.8985\n",
            "Epoch 25/30\n",
            "460/460 [==============================] - 4s 10ms/step - loss: 0.1481 - accuracy: 0.9442 - val_loss: 0.3465 - val_accuracy: 0.9033\n",
            "Epoch 26/30\n",
            "460/460 [==============================] - 4s 9ms/step - loss: 0.1505 - accuracy: 0.9455 - val_loss: 0.3199 - val_accuracy: 0.9046\n",
            "Epoch 27/30\n",
            "460/460 [==============================] - 4s 9ms/step - loss: 0.1401 - accuracy: 0.9464 - val_loss: 0.3630 - val_accuracy: 0.9046\n",
            "Epoch 28/30\n",
            "460/460 [==============================] - 4s 9ms/step - loss: 0.1309 - accuracy: 0.9494 - val_loss: 0.3570 - val_accuracy: 0.8833\n",
            "Epoch 29/30\n",
            "460/460 [==============================] - 4s 9ms/step - loss: 0.2513 - accuracy: 0.9181 - val_loss: 0.2673 - val_accuracy: 0.9043\n",
            "Epoch 30/30\n",
            "460/460 [==============================] - 4s 9ms/step - loss: 0.1547 - accuracy: 0.9373 - val_loss: 0.3537 - val_accuracy: 0.8989\n"
          ]
        },
        {
          "output_type": "execute_result",
          "data": {
            "text/plain": [
              "<keras.callbacks.History at 0x7f8f606d3040>"
            ]
          },
          "metadata": {},
          "execution_count": 17
        }
      ]
    },
    {
      "cell_type": "code",
      "source": [
        "# Training Evaluation\n",
        "print(\"LSTM Training Accuracy\")\n",
        "score = model1.evaluate(X_train, Y_train)\n",
        "print(\"Accuracy: \", score[1])\n",
        "print(\"Loss: \", score[0])\n",
        "print(confusion_matrix(np.argmax(Y_train, axis=1), np.argmax(model1.predict(X_train), axis=1)))"
      ],
      "metadata": {
        "colab": {
          "base_uri": "https://localhost:8080/"
        },
        "id": "Hagh5uQEbJOA",
        "outputId": "a2422fe8-4a3f-4ec9-c0da-89e51a1ccfcc"
      },
      "execution_count": null,
      "outputs": [
        {
          "output_type": "stream",
          "name": "stdout",
          "text": [
            "LSTM Training Accuracy\n",
            "230/230 [==============================] - 1s 5ms/step - loss: 0.1149 - accuracy: 0.9463\n",
            "Accuracy:  0.946273148059845\n",
            "Loss:  0.11491026729345322\n",
            "230/230 [==============================] - 1s 4ms/step\n",
            "[[1226    0    0    0    0    0]\n",
            " [   1 1071    1    0    0    0]\n",
            " [   0    1  985    0    0    0]\n",
            " [   0    0    0 1028  258    0]\n",
            " [   0    2    0  132 1240    0]\n",
            " [   0    0    0    0    0 1407]]\n"
          ]
        }
      ]
    },
    {
      "cell_type": "code",
      "source": [
        "# Testing\n",
        "print(\"LSTM Testing Accuracy\")\n",
        "score = model1.evaluate(X_test, Y_test)\n",
        "print(\"Accuracy: \", score[1])\n",
        "print(\"Loss: \", score[0])\n",
        "print(confusion_matrix(np.argmax(Y_test, axis=1), np.argmax(model1.predict(X_test), axis=1)))"
      ],
      "metadata": {
        "colab": {
          "base_uri": "https://localhost:8080/"
        },
        "id": "7gUGlCsQaus0",
        "outputId": "94d63d0e-daef-46ac-f6a3-a6ccc655f3c4"
      },
      "execution_count": null,
      "outputs": [
        {
          "output_type": "stream",
          "name": "stdout",
          "text": [
            "LSTM Testing Accuracy\n",
            "93/93 [==============================] - 1s 6ms/step - loss: 0.3537 - accuracy: 0.8989\n",
            "Accuracy:  0.8988802433013916\n",
            "Loss:  0.35367485880851746\n",
            "93/93 [==============================] - 0s 4ms/step\n",
            "[[462   6  24   0   4   0]\n",
            " [ 19 437  10   5   0   0]\n",
            " [  2   2 416   0   0   0]\n",
            " [  0   1   0 356 134   0]\n",
            " [  0   0   0  64 468   0]\n",
            " [  0  27   0   0   0 510]]\n"
          ]
        }
      ]
    },
    {
      "cell_type": "markdown",
      "source": [
        "## CNN-LSTM"
      ],
      "metadata": {
        "id": "ALDXf2sl93wC"
      }
    },
    {
      "cell_type": "code",
      "source": [
        "tf.keras.backend.clear_session()"
      ],
      "metadata": {
        "id": "u77_Rv_k5D7b"
      },
      "execution_count": null,
      "outputs": []
    },
    {
      "cell_type": "code",
      "source": [
        "n_steps, n_length = 4, 32\n",
        "X_train = X_train.reshape((X_train.shape[0], n_steps, n_length, input_dim))\n",
        "X_test = X_test.reshape((X_test.shape[0], n_steps, n_length, input_dim))"
      ],
      "metadata": {
        "id": "Hw5JelqTawQg"
      },
      "execution_count": 48,
      "outputs": []
    },
    {
      "cell_type": "code",
      "source": [
        "# define model\n",
        "# CNN layers for feature extraction on input data combined with LSTMs to support sequence prediction\n",
        "model2 = Sequential()\n",
        "# CNN layers\n",
        "model2.add(TimeDistributed(Conv1D(filters=64, kernel_size=3, activation='relu'), input_shape=(None,n_length,input_dim)))\n",
        "model2.add(TimeDistributed(Conv1D(filters=64, kernel_size=3, activation='relu')))\n",
        "model2.add(TimeDistributed(Dropout(0.5)))\n",
        "model2.add(TimeDistributed(MaxPooling1D(pool_size=2)))\n",
        "model2.add(TimeDistributed(Flatten()))\n",
        "# LSTM layer\n",
        "model2.add(LSTM(n_hidden))\n",
        "model2.add(Dropout(0.5))\n",
        "model2.add(Dense(n_hidden, activation='relu'))\n",
        "model2.add(Dense(n_classes, activation='softmax'))\n",
        "model2.summary()"
      ],
      "metadata": {
        "colab": {
          "base_uri": "https://localhost:8080/"
        },
        "id": "fxe30eDhazPy",
        "outputId": "cc2449d9-001c-4a22-d3fe-5c436315cd49"
      },
      "execution_count": null,
      "outputs": [
        {
          "output_type": "stream",
          "name": "stdout",
          "text": [
            "Model: \"sequential\"\n",
            "_________________________________________________________________\n",
            " Layer (type)                Output Shape              Param #   \n",
            "=================================================================\n",
            " time_distributed (TimeDistr  (None, None, 30, 64)     1792      \n",
            " ibuted)                                                         \n",
            "                                                                 \n",
            " time_distributed_1 (TimeDis  (None, None, 28, 64)     12352     \n",
            " tributed)                                                       \n",
            "                                                                 \n",
            " time_distributed_2 (TimeDis  (None, None, 28, 64)     0         \n",
            " tributed)                                                       \n",
            "                                                                 \n",
            " time_distributed_3 (TimeDis  (None, None, 14, 64)     0         \n",
            " tributed)                                                       \n",
            "                                                                 \n",
            " time_distributed_4 (TimeDis  (None, None, 896)        0         \n",
            " tributed)                                                       \n",
            "                                                                 \n",
            " lstm (LSTM)                 (None, 32)                118912    \n",
            "                                                                 \n",
            " dropout_1 (Dropout)         (None, 32)                0         \n",
            "                                                                 \n",
            " dense (Dense)               (None, 32)                1056      \n",
            "                                                                 \n",
            " dense_1 (Dense)             (None, 6)                 198       \n",
            "                                                                 \n",
            "=================================================================\n",
            "Total params: 134,310\n",
            "Trainable params: 134,310\n",
            "Non-trainable params: 0\n",
            "_________________________________________________________________\n"
          ]
        }
      ]
    },
    {
      "cell_type": "code",
      "source": [
        "model2.compile(loss='categorical_crossentropy', optimizer='adam', metrics=['accuracy'])"
      ],
      "metadata": {
        "id": "I5fedMjIa5mo"
      },
      "execution_count": null,
      "outputs": []
    },
    {
      "cell_type": "code",
      "source": [
        "epochs = 50"
      ],
      "metadata": {
        "id": "ViXLQKCiApix"
      },
      "execution_count": null,
      "outputs": []
    },
    {
      "cell_type": "code",
      "source": [
        "# Training the model\n",
        "model2.fit(X_train,\n",
        "          Y_train,\n",
        "          batch_size=batch_size,\n",
        "          validation_data=(X_test, Y_test),\n",
        "          epochs=epochs)"
      ],
      "metadata": {
        "colab": {
          "base_uri": "https://localhost:8080/"
        },
        "id": "ZIqb5jYya7Ty",
        "outputId": "bcfc1acf-0d30-4aa5-b012-75ca93ef307e"
      },
      "execution_count": null,
      "outputs": [
        {
          "output_type": "stream",
          "name": "stdout",
          "text": [
            "Epoch 1/50\n",
            "460/460 [==============================] - 3s 7ms/step - loss: 0.0613 - accuracy: 0.9716 - val_loss: 0.5001 - val_accuracy: 0.9172\n",
            "Epoch 2/50\n",
            "460/460 [==============================] - 3s 6ms/step - loss: 0.0617 - accuracy: 0.9739 - val_loss: 0.4589 - val_accuracy: 0.9158\n",
            "Epoch 3/50\n",
            "460/460 [==============================] - 3s 6ms/step - loss: 0.0713 - accuracy: 0.9694 - val_loss: 0.4884 - val_accuracy: 0.9091\n",
            "Epoch 4/50\n",
            "460/460 [==============================] - 3s 7ms/step - loss: 0.0586 - accuracy: 0.9754 - val_loss: 0.4596 - val_accuracy: 0.9169\n",
            "Epoch 5/50\n",
            "460/460 [==============================] - 3s 7ms/step - loss: 0.0551 - accuracy: 0.9776 - val_loss: 0.5160 - val_accuracy: 0.9006\n",
            "Epoch 6/50\n",
            "460/460 [==============================] - 3s 6ms/step - loss: 0.0577 - accuracy: 0.9762 - val_loss: 0.4471 - val_accuracy: 0.9087\n",
            "Epoch 7/50\n",
            "460/460 [==============================] - 3s 6ms/step - loss: 0.0673 - accuracy: 0.9716 - val_loss: 0.4705 - val_accuracy: 0.9165\n",
            "Epoch 8/50\n",
            "460/460 [==============================] - 3s 6ms/step - loss: 0.0518 - accuracy: 0.9773 - val_loss: 0.4721 - val_accuracy: 0.9114\n",
            "Epoch 9/50\n",
            "460/460 [==============================] - 3s 7ms/step - loss: 0.0473 - accuracy: 0.9773 - val_loss: 0.4841 - val_accuracy: 0.9165\n",
            "Epoch 10/50\n",
            "460/460 [==============================] - 3s 6ms/step - loss: 0.0505 - accuracy: 0.9777 - val_loss: 0.4662 - val_accuracy: 0.9274\n",
            "Epoch 11/50\n",
            "460/460 [==============================] - 3s 7ms/step - loss: 0.0443 - accuracy: 0.9801 - val_loss: 0.4710 - val_accuracy: 0.9145\n",
            "Epoch 12/50\n",
            "460/460 [==============================] - 3s 7ms/step - loss: 0.0632 - accuracy: 0.9735 - val_loss: 0.4175 - val_accuracy: 0.9203\n",
            "Epoch 13/50\n",
            "460/460 [==============================] - 3s 6ms/step - loss: 0.0488 - accuracy: 0.9762 - val_loss: 0.5565 - val_accuracy: 0.9019\n",
            "Epoch 14/50\n",
            "460/460 [==============================] - 3s 6ms/step - loss: 0.0496 - accuracy: 0.9765 - val_loss: 0.5097 - val_accuracy: 0.8985\n",
            "Epoch 15/50\n",
            "460/460 [==============================] - 3s 6ms/step - loss: 0.0485 - accuracy: 0.9792 - val_loss: 0.4859 - val_accuracy: 0.9131\n",
            "Epoch 16/50\n",
            "460/460 [==============================] - 3s 7ms/step - loss: 0.0441 - accuracy: 0.9797 - val_loss: 0.4938 - val_accuracy: 0.9033\n",
            "Epoch 17/50\n",
            "460/460 [==============================] - 3s 6ms/step - loss: 0.0451 - accuracy: 0.9795 - val_loss: 0.4561 - val_accuracy: 0.9260\n",
            "Epoch 18/50\n",
            "460/460 [==============================] - 3s 6ms/step - loss: 0.0473 - accuracy: 0.9782 - val_loss: 0.4728 - val_accuracy: 0.9230\n",
            "Epoch 19/50\n",
            "460/460 [==============================] - 3s 7ms/step - loss: 0.0506 - accuracy: 0.9788 - val_loss: 0.4696 - val_accuracy: 0.9182\n",
            "Epoch 20/50\n",
            "460/460 [==============================] - 3s 7ms/step - loss: 0.0426 - accuracy: 0.9815 - val_loss: 0.6897 - val_accuracy: 0.9016\n",
            "Epoch 21/50\n",
            "460/460 [==============================] - 3s 7ms/step - loss: 0.0390 - accuracy: 0.9844 - val_loss: 0.5178 - val_accuracy: 0.9148\n",
            "Epoch 22/50\n",
            "460/460 [==============================] - 3s 6ms/step - loss: 0.0495 - accuracy: 0.9797 - val_loss: 0.4244 - val_accuracy: 0.9281\n",
            "Epoch 23/50\n",
            "460/460 [==============================] - 3s 7ms/step - loss: 0.0404 - accuracy: 0.9812 - val_loss: 0.5128 - val_accuracy: 0.9274\n",
            "Epoch 24/50\n",
            "460/460 [==============================] - 3s 6ms/step - loss: 0.0391 - accuracy: 0.9823 - val_loss: 0.5230 - val_accuracy: 0.9192\n",
            "Epoch 25/50\n",
            "460/460 [==============================] - 3s 6ms/step - loss: 0.0449 - accuracy: 0.9803 - val_loss: 0.4897 - val_accuracy: 0.9172\n",
            "Epoch 26/50\n",
            "460/460 [==============================] - 3s 6ms/step - loss: 0.0360 - accuracy: 0.9839 - val_loss: 0.5230 - val_accuracy: 0.9233\n",
            "Epoch 27/50\n",
            "460/460 [==============================] - 3s 6ms/step - loss: 0.0501 - accuracy: 0.9810 - val_loss: 0.5121 - val_accuracy: 0.9162\n",
            "Epoch 28/50\n",
            "460/460 [==============================] - 3s 7ms/step - loss: 0.0340 - accuracy: 0.9833 - val_loss: 0.4818 - val_accuracy: 0.9162\n",
            "Epoch 29/50\n",
            "460/460 [==============================] - 3s 6ms/step - loss: 0.0504 - accuracy: 0.9808 - val_loss: 0.6950 - val_accuracy: 0.9080\n",
            "Epoch 30/50\n",
            "460/460 [==============================] - 3s 6ms/step - loss: 0.0416 - accuracy: 0.9823 - val_loss: 0.5433 - val_accuracy: 0.9192\n",
            "Epoch 31/50\n",
            "460/460 [==============================] - 3s 7ms/step - loss: 0.0357 - accuracy: 0.9829 - val_loss: 0.6493 - val_accuracy: 0.9108\n",
            "Epoch 32/50\n",
            "460/460 [==============================] - 3s 6ms/step - loss: 0.0348 - accuracy: 0.9848 - val_loss: 0.5902 - val_accuracy: 0.9152\n",
            "Epoch 33/50\n",
            "460/460 [==============================] - 3s 7ms/step - loss: 0.0351 - accuracy: 0.9833 - val_loss: 0.5258 - val_accuracy: 0.9209\n",
            "Epoch 34/50\n",
            "460/460 [==============================] - 3s 7ms/step - loss: 0.0348 - accuracy: 0.9842 - val_loss: 0.6388 - val_accuracy: 0.9067\n",
            "Epoch 35/50\n",
            "460/460 [==============================] - 3s 7ms/step - loss: 0.0348 - accuracy: 0.9869 - val_loss: 0.6860 - val_accuracy: 0.9196\n",
            "Epoch 36/50\n",
            "460/460 [==============================] - 3s 6ms/step - loss: 0.0378 - accuracy: 0.9833 - val_loss: 0.7254 - val_accuracy: 0.9131\n",
            "Epoch 37/50\n",
            "460/460 [==============================] - 3s 6ms/step - loss: 0.0309 - accuracy: 0.9876 - val_loss: 0.7360 - val_accuracy: 0.9165\n",
            "Epoch 38/50\n",
            "460/460 [==============================] - 3s 7ms/step - loss: 0.0422 - accuracy: 0.9835 - val_loss: 0.7706 - val_accuracy: 0.9179\n",
            "Epoch 39/50\n",
            "460/460 [==============================] - 3s 6ms/step - loss: 0.0303 - accuracy: 0.9861 - val_loss: 0.7480 - val_accuracy: 0.9199\n",
            "Epoch 40/50\n",
            "460/460 [==============================] - 3s 6ms/step - loss: 0.0364 - accuracy: 0.9857 - val_loss: 0.7468 - val_accuracy: 0.9108\n",
            "Epoch 41/50\n",
            "460/460 [==============================] - 3s 6ms/step - loss: 0.0387 - accuracy: 0.9822 - val_loss: 0.7596 - val_accuracy: 0.9145\n",
            "Epoch 42/50\n",
            "460/460 [==============================] - 3s 7ms/step - loss: 0.0327 - accuracy: 0.9871 - val_loss: 0.7217 - val_accuracy: 0.9199\n",
            "Epoch 43/50\n",
            "460/460 [==============================] - 3s 7ms/step - loss: 0.0245 - accuracy: 0.9895 - val_loss: 0.6244 - val_accuracy: 0.9203\n",
            "Epoch 44/50\n",
            "460/460 [==============================] - 3s 6ms/step - loss: 0.0382 - accuracy: 0.9853 - val_loss: 0.7322 - val_accuracy: 0.9223\n",
            "Epoch 45/50\n",
            "460/460 [==============================] - 3s 7ms/step - loss: 0.0271 - accuracy: 0.9886 - val_loss: 0.7704 - val_accuracy: 0.9186\n",
            "Epoch 46/50\n",
            "460/460 [==============================] - 3s 7ms/step - loss: 0.0301 - accuracy: 0.9887 - val_loss: 0.7698 - val_accuracy: 0.9125\n",
            "Epoch 47/50\n",
            "460/460 [==============================] - 3s 6ms/step - loss: 0.0258 - accuracy: 0.9891 - val_loss: 0.9386 - val_accuracy: 0.8982\n",
            "Epoch 48/50\n",
            "460/460 [==============================] - 3s 6ms/step - loss: 0.0314 - accuracy: 0.9878 - val_loss: 0.7353 - val_accuracy: 0.9063\n",
            "Epoch 49/50\n",
            "460/460 [==============================] - 3s 6ms/step - loss: 0.0353 - accuracy: 0.9867 - val_loss: 0.7446 - val_accuracy: 0.9169\n",
            "Epoch 50/50\n",
            "460/460 [==============================] - 3s 7ms/step - loss: 0.0324 - accuracy: 0.9859 - val_loss: 0.7681 - val_accuracy: 0.9104\n"
          ]
        },
        {
          "output_type": "execute_result",
          "data": {
            "text/plain": [
              "<keras.callbacks.History at 0x7f9f3a028e50>"
            ]
          },
          "metadata": {},
          "execution_count": 28
        }
      ]
    },
    {
      "cell_type": "code",
      "source": [
        "# Training evaluation\n",
        "print(\"CNN-LSTM Training Accuracy\")\n",
        "score = model2.evaluate(X_train, Y_train)\n",
        "print(\"Accuracy: \", score[1])\n",
        "print(\"Loss: \", score[0])\n",
        "print(confusion_matrix(np.argmax(Y_train, axis=1), np.argmax(model2.predict(X_train), axis=1)))"
      ],
      "metadata": {
        "id": "TsgcBoavfS6e",
        "colab": {
          "base_uri": "https://localhost:8080/"
        },
        "outputId": "7b561045-7c82-4f60-cd73-210333295870"
      },
      "execution_count": null,
      "outputs": [
        {
          "output_type": "stream",
          "name": "stdout",
          "text": [
            "CNN-LSTM Training Accuracy\n",
            "230/230 [==============================] - 2s 7ms/step - loss: 0.0150 - accuracy: 0.9951\n",
            "Accuracy:  0.9951033592224121\n",
            "Loss:  0.015014450065791607\n",
            "230/230 [==============================] - 2s 4ms/step\n",
            "[[1226    0    0    0    0    0]\n",
            " [   0 1073    0    0    0    0]\n",
            " [   0    0  986    0    0    0]\n",
            " [   0    0    0 1284    2    0]\n",
            " [   0    0    0   34 1340    0]\n",
            " [   0    0    0    0    0 1407]]\n"
          ]
        }
      ]
    },
    {
      "cell_type": "code",
      "source": [
        "# Testing\n",
        "print(\"CNN-LSTM Testing Accuracy\")\n",
        "score = model2.evaluate(X_test, Y_test)\n",
        "print(\"Accuracy: \", score[1])\n",
        "print(\"Loss: \", score[0])\n",
        "print(confusion_matrix(np.argmax(Y_test, axis=1), np.argmax(model2.predict(X_test), axis=1)))"
      ],
      "metadata": {
        "colab": {
          "base_uri": "https://localhost:8080/"
        },
        "id": "QBEhi0A9bAnC",
        "outputId": "2e582b35-065b-420d-d8d8-2e7b09e2dc99"
      },
      "execution_count": null,
      "outputs": [
        {
          "output_type": "stream",
          "name": "stdout",
          "text": [
            "CNN-LSTM Testing Accuracy\n",
            "93/93 [==============================] - 1s 7ms/step - loss: 0.7681 - accuracy: 0.9104\n",
            "Accuracy:  0.910417377948761\n",
            "Loss:  0.7681483626365662\n",
            "93/93 [==============================] - 0s 4ms/step\n",
            "[[493   0   3   0   0   0]\n",
            " [ 14 432  25   0   0   0]\n",
            " [ 23   2 395   0   0   0]\n",
            " [  1   3   0 393  94   0]\n",
            " [  2   0   0  70 460   0]\n",
            " [  0  27   0   0   0 510]]\n"
          ]
        }
      ]
    },
    {
      "cell_type": "code",
      "source": [
        "y_pred = model2.predict(X_test)"
      ],
      "metadata": {
        "colab": {
          "base_uri": "https://localhost:8080/"
        },
        "id": "sGERRrivBk30",
        "outputId": "211f3e68-9d6f-4017-b045-0e78268aa810"
      },
      "execution_count": null,
      "outputs": [
        {
          "output_type": "stream",
          "name": "stdout",
          "text": [
            "93/93 [==============================] - 0s 4ms/step\n"
          ]
        }
      ]
    },
    {
      "cell_type": "markdown",
      "source": [
        "### Classification Report: CNN-LSTM Model (Test Data)"
      ],
      "metadata": {
        "id": "ixi7YWYwDgC2"
      }
    },
    {
      "cell_type": "code",
      "source": [
        "from sklearn.metrics import classification_report"
      ],
      "metadata": {
        "id": "Vh-yAJyHByFS"
      },
      "execution_count": null,
      "outputs": []
    },
    {
      "cell_type": "code",
      "source": [
        "test_predictions = np.argmax(y_pred, axis=-1)\n",
        "test_y = np.argmax(Y_test, axis=-1)\n",
        "print(classification_report(test_y, test_predictions))"
      ],
      "metadata": {
        "colab": {
          "base_uri": "https://localhost:8080/"
        },
        "id": "NbbGsSYwCEwd",
        "outputId": "e82d970f-35c6-47f8-87af-3ee46710a9c2"
      },
      "execution_count": null,
      "outputs": [
        {
          "output_type": "stream",
          "name": "stdout",
          "text": [
            "              precision    recall  f1-score   support\n",
            "\n",
            "           0       0.92      0.99      0.96       496\n",
            "           1       0.93      0.92      0.92       471\n",
            "           2       0.93      0.94      0.94       420\n",
            "           3       0.85      0.80      0.82       491\n",
            "           4       0.83      0.86      0.85       532\n",
            "           5       1.00      0.95      0.97       537\n",
            "\n",
            "    accuracy                           0.91      2947\n",
            "   macro avg       0.91      0.91      0.91      2947\n",
            "weighted avg       0.91      0.91      0.91      2947\n",
            "\n"
          ]
        }
      ]
    },
    {
      "cell_type": "markdown",
      "source": [
        "#### Save the Model"
      ],
      "metadata": {
        "id": "eryZKauiDntI"
      }
    },
    {
      "cell_type": "code",
      "source": [
        "model2.save(\"cnn-lstm.h5\")"
      ],
      "metadata": {
        "id": "yRtyF3nn4QvR"
      },
      "execution_count": null,
      "outputs": []
    },
    {
      "cell_type": "markdown",
      "source": [
        "## Testing model with real time data"
      ],
      "metadata": {
        "id": "fYRpjrO_HH9C"
      }
    },
    {
      "cell_type": "code",
      "source": [
        "# Loading the saved model\n",
        "model = load_model(\"cnn-lstm.h5\")"
      ],
      "metadata": {
        "id": "3PyZ3eWDC0HB"
      },
      "execution_count": null,
      "outputs": []
    },
    {
      "cell_type": "code",
      "source": [
        "class_labels = {\n",
        "    0: \"WALKING\",\n",
        "    1: \"WALKING_UPSTAIRS\",\n",
        "    2: \"WALKING_DOWNSTAIRS\",\n",
        "    3: \"SITTING\",\n",
        "    4: \"STANDING\",\n",
        "    5: \"LAYING\"\n",
        "  }"
      ],
      "metadata": {
        "id": "oQkBnupI4MyI"
      },
      "execution_count": 116,
      "outputs": []
    },
    {
      "cell_type": "markdown",
      "source": [
        "#### Using a recorded data of Walking"
      ],
      "metadata": {
        "id": "j44W2pvJ3rb6"
      }
    },
    {
      "cell_type": "code",
      "source": [
        "test = pd.read_csv(\"drive/MyDrive/UCI HAR Dataset/realtime/realtime-walk.csv\")\n",
        "test = test.iloc[100:228, 1:10]\n",
        "print(test.shape)\n",
        "test.head()"
      ],
      "metadata": {
        "colab": {
          "base_uri": "https://localhost:8080/",
          "height": 223
        },
        "id": "KA0bojUoHKk6",
        "outputId": "bb84845c-2cea-4ecc-e299-8342a7b4fa23"
      },
      "execution_count": 117,
      "outputs": [
        {
          "output_type": "stream",
          "name": "stdout",
          "text": [
            "(128, 9)\n"
          ]
        },
        {
          "output_type": "execute_result",
          "data": {
            "text/plain": [
              "        gFx     gFy     gFz      ax      ay      az      wx      wy      wz\n",
              "100 -0.0140 -0.2564  0.9831  0.0272 -0.0222 -0.0143  0.0003 -0.0027 -0.0000\n",
              "101 -0.0148 -0.2584  0.9831  0.0035 -0.0252 -0.0183 -0.0008 -0.0005  0.0011\n",
              "102 -0.0209 -0.2645  0.9843  0.0024  0.0089  0.0396 -0.0040 -0.0005 -0.0011\n",
              "103 -0.0165 -0.2594  0.9885  0.0437  0.0259 -0.0222 -0.0008  0.0027  0.0011\n",
              "104 -0.0160 -0.2581  0.9860 -0.0134 -0.0208  0.0129 -0.0008  0.0016  0.0011"
            ],
            "text/html": [
              "\n",
              "  <div id=\"df-84710933-474f-4387-a3d0-90d54a3c8bb0\">\n",
              "    <div class=\"colab-df-container\">\n",
              "      <div>\n",
              "<style scoped>\n",
              "    .dataframe tbody tr th:only-of-type {\n",
              "        vertical-align: middle;\n",
              "    }\n",
              "\n",
              "    .dataframe tbody tr th {\n",
              "        vertical-align: top;\n",
              "    }\n",
              "\n",
              "    .dataframe thead th {\n",
              "        text-align: right;\n",
              "    }\n",
              "</style>\n",
              "<table border=\"1\" class=\"dataframe\">\n",
              "  <thead>\n",
              "    <tr style=\"text-align: right;\">\n",
              "      <th></th>\n",
              "      <th>gFx</th>\n",
              "      <th>gFy</th>\n",
              "      <th>gFz</th>\n",
              "      <th>ax</th>\n",
              "      <th>ay</th>\n",
              "      <th>az</th>\n",
              "      <th>wx</th>\n",
              "      <th>wy</th>\n",
              "      <th>wz</th>\n",
              "    </tr>\n",
              "  </thead>\n",
              "  <tbody>\n",
              "    <tr>\n",
              "      <th>100</th>\n",
              "      <td>-0.0140</td>\n",
              "      <td>-0.2564</td>\n",
              "      <td>0.9831</td>\n",
              "      <td>0.0272</td>\n",
              "      <td>-0.0222</td>\n",
              "      <td>-0.0143</td>\n",
              "      <td>0.0003</td>\n",
              "      <td>-0.0027</td>\n",
              "      <td>-0.0000</td>\n",
              "    </tr>\n",
              "    <tr>\n",
              "      <th>101</th>\n",
              "      <td>-0.0148</td>\n",
              "      <td>-0.2584</td>\n",
              "      <td>0.9831</td>\n",
              "      <td>0.0035</td>\n",
              "      <td>-0.0252</td>\n",
              "      <td>-0.0183</td>\n",
              "      <td>-0.0008</td>\n",
              "      <td>-0.0005</td>\n",
              "      <td>0.0011</td>\n",
              "    </tr>\n",
              "    <tr>\n",
              "      <th>102</th>\n",
              "      <td>-0.0209</td>\n",
              "      <td>-0.2645</td>\n",
              "      <td>0.9843</td>\n",
              "      <td>0.0024</td>\n",
              "      <td>0.0089</td>\n",
              "      <td>0.0396</td>\n",
              "      <td>-0.0040</td>\n",
              "      <td>-0.0005</td>\n",
              "      <td>-0.0011</td>\n",
              "    </tr>\n",
              "    <tr>\n",
              "      <th>103</th>\n",
              "      <td>-0.0165</td>\n",
              "      <td>-0.2594</td>\n",
              "      <td>0.9885</td>\n",
              "      <td>0.0437</td>\n",
              "      <td>0.0259</td>\n",
              "      <td>-0.0222</td>\n",
              "      <td>-0.0008</td>\n",
              "      <td>0.0027</td>\n",
              "      <td>0.0011</td>\n",
              "    </tr>\n",
              "    <tr>\n",
              "      <th>104</th>\n",
              "      <td>-0.0160</td>\n",
              "      <td>-0.2581</td>\n",
              "      <td>0.9860</td>\n",
              "      <td>-0.0134</td>\n",
              "      <td>-0.0208</td>\n",
              "      <td>0.0129</td>\n",
              "      <td>-0.0008</td>\n",
              "      <td>0.0016</td>\n",
              "      <td>0.0011</td>\n",
              "    </tr>\n",
              "  </tbody>\n",
              "</table>\n",
              "</div>\n",
              "      <button class=\"colab-df-convert\" onclick=\"convertToInteractive('df-84710933-474f-4387-a3d0-90d54a3c8bb0')\"\n",
              "              title=\"Convert this dataframe to an interactive table.\"\n",
              "              style=\"display:none;\">\n",
              "        \n",
              "  <svg xmlns=\"http://www.w3.org/2000/svg\" height=\"24px\"viewBox=\"0 0 24 24\"\n",
              "       width=\"24px\">\n",
              "    <path d=\"M0 0h24v24H0V0z\" fill=\"none\"/>\n",
              "    <path d=\"M18.56 5.44l.94 2.06.94-2.06 2.06-.94-2.06-.94-.94-2.06-.94 2.06-2.06.94zm-11 1L8.5 8.5l.94-2.06 2.06-.94-2.06-.94L8.5 2.5l-.94 2.06-2.06.94zm10 10l.94 2.06.94-2.06 2.06-.94-2.06-.94-.94-2.06-.94 2.06-2.06.94z\"/><path d=\"M17.41 7.96l-1.37-1.37c-.4-.4-.92-.59-1.43-.59-.52 0-1.04.2-1.43.59L10.3 9.45l-7.72 7.72c-.78.78-.78 2.05 0 2.83L4 21.41c.39.39.9.59 1.41.59.51 0 1.02-.2 1.41-.59l7.78-7.78 2.81-2.81c.8-.78.8-2.07 0-2.86zM5.41 20L4 18.59l7.72-7.72 1.47 1.35L5.41 20z\"/>\n",
              "  </svg>\n",
              "      </button>\n",
              "      \n",
              "  <style>\n",
              "    .colab-df-container {\n",
              "      display:flex;\n",
              "      flex-wrap:wrap;\n",
              "      gap: 12px;\n",
              "    }\n",
              "\n",
              "    .colab-df-convert {\n",
              "      background-color: #E8F0FE;\n",
              "      border: none;\n",
              "      border-radius: 50%;\n",
              "      cursor: pointer;\n",
              "      display: none;\n",
              "      fill: #1967D2;\n",
              "      height: 32px;\n",
              "      padding: 0 0 0 0;\n",
              "      width: 32px;\n",
              "    }\n",
              "\n",
              "    .colab-df-convert:hover {\n",
              "      background-color: #E2EBFA;\n",
              "      box-shadow: 0px 1px 2px rgba(60, 64, 67, 0.3), 0px 1px 3px 1px rgba(60, 64, 67, 0.15);\n",
              "      fill: #174EA6;\n",
              "    }\n",
              "\n",
              "    [theme=dark] .colab-df-convert {\n",
              "      background-color: #3B4455;\n",
              "      fill: #D2E3FC;\n",
              "    }\n",
              "\n",
              "    [theme=dark] .colab-df-convert:hover {\n",
              "      background-color: #434B5C;\n",
              "      box-shadow: 0px 1px 3px 1px rgba(0, 0, 0, 0.15);\n",
              "      filter: drop-shadow(0px 1px 2px rgba(0, 0, 0, 0.3));\n",
              "      fill: #FFFFFF;\n",
              "    }\n",
              "  </style>\n",
              "\n",
              "      <script>\n",
              "        const buttonEl =\n",
              "          document.querySelector('#df-84710933-474f-4387-a3d0-90d54a3c8bb0 button.colab-df-convert');\n",
              "        buttonEl.style.display =\n",
              "          google.colab.kernel.accessAllowed ? 'block' : 'none';\n",
              "\n",
              "        async function convertToInteractive(key) {\n",
              "          const element = document.querySelector('#df-84710933-474f-4387-a3d0-90d54a3c8bb0');\n",
              "          const dataTable =\n",
              "            await google.colab.kernel.invokeFunction('convertToInteractive',\n",
              "                                                     [key], {});\n",
              "          if (!dataTable) return;\n",
              "\n",
              "          const docLinkHtml = 'Like what you see? Visit the ' +\n",
              "            '<a target=\"_blank\" href=https://colab.research.google.com/notebooks/data_table.ipynb>data table notebook</a>'\n",
              "            + ' to learn more about interactive tables.';\n",
              "          element.innerHTML = '';\n",
              "          dataTable['output_type'] = 'display_data';\n",
              "          await google.colab.output.renderOutput(dataTable, element);\n",
              "          const docLink = document.createElement('div');\n",
              "          docLink.innerHTML = docLinkHtml;\n",
              "          element.appendChild(docLink);\n",
              "        }\n",
              "      </script>\n",
              "    </div>\n",
              "  </div>\n",
              "  "
            ]
          },
          "metadata": {},
          "execution_count": 117
        }
      ]
    },
    {
      "cell_type": "code",
      "source": [
        "test['gFx'] = test['ax'] - test['gFx']\n",
        "test['gFy'] = test['ay'] - test['gFy']\n",
        "test['gFz'] = test['az'] - test['gFz']\n",
        "test.rename(columns = {'gFx' : 'bax', 'gFy' : 'bay', 'gFz' : 'baz'}, inplace = True)\n",
        "test.head()"
      ],
      "metadata": {
        "id": "qyVNt2LeHYeo",
        "colab": {
          "base_uri": "https://localhost:8080/",
          "height": 206
        },
        "outputId": "446fd060-9b6a-4cf6-e9fb-f2e3599f75e1"
      },
      "execution_count": 118,
      "outputs": [
        {
          "output_type": "execute_result",
          "data": {
            "text/plain": [
              "        bax     bay     baz      ax      ay      az      wx      wy      wz\n",
              "100  0.0412  0.2342 -0.9974  0.0272 -0.0222 -0.0143  0.0003 -0.0027 -0.0000\n",
              "101  0.0183  0.2332 -1.0014  0.0035 -0.0252 -0.0183 -0.0008 -0.0005  0.0011\n",
              "102  0.0233  0.2734 -0.9447  0.0024  0.0089  0.0396 -0.0040 -0.0005 -0.0011\n",
              "103  0.0602  0.2853 -1.0107  0.0437  0.0259 -0.0222 -0.0008  0.0027  0.0011\n",
              "104  0.0026  0.2373 -0.9731 -0.0134 -0.0208  0.0129 -0.0008  0.0016  0.0011"
            ],
            "text/html": [
              "\n",
              "  <div id=\"df-c82ec478-f06a-4222-9f8e-b3174de301c1\">\n",
              "    <div class=\"colab-df-container\">\n",
              "      <div>\n",
              "<style scoped>\n",
              "    .dataframe tbody tr th:only-of-type {\n",
              "        vertical-align: middle;\n",
              "    }\n",
              "\n",
              "    .dataframe tbody tr th {\n",
              "        vertical-align: top;\n",
              "    }\n",
              "\n",
              "    .dataframe thead th {\n",
              "        text-align: right;\n",
              "    }\n",
              "</style>\n",
              "<table border=\"1\" class=\"dataframe\">\n",
              "  <thead>\n",
              "    <tr style=\"text-align: right;\">\n",
              "      <th></th>\n",
              "      <th>bax</th>\n",
              "      <th>bay</th>\n",
              "      <th>baz</th>\n",
              "      <th>ax</th>\n",
              "      <th>ay</th>\n",
              "      <th>az</th>\n",
              "      <th>wx</th>\n",
              "      <th>wy</th>\n",
              "      <th>wz</th>\n",
              "    </tr>\n",
              "  </thead>\n",
              "  <tbody>\n",
              "    <tr>\n",
              "      <th>100</th>\n",
              "      <td>0.0412</td>\n",
              "      <td>0.2342</td>\n",
              "      <td>-0.9974</td>\n",
              "      <td>0.0272</td>\n",
              "      <td>-0.0222</td>\n",
              "      <td>-0.0143</td>\n",
              "      <td>0.0003</td>\n",
              "      <td>-0.0027</td>\n",
              "      <td>-0.0000</td>\n",
              "    </tr>\n",
              "    <tr>\n",
              "      <th>101</th>\n",
              "      <td>0.0183</td>\n",
              "      <td>0.2332</td>\n",
              "      <td>-1.0014</td>\n",
              "      <td>0.0035</td>\n",
              "      <td>-0.0252</td>\n",
              "      <td>-0.0183</td>\n",
              "      <td>-0.0008</td>\n",
              "      <td>-0.0005</td>\n",
              "      <td>0.0011</td>\n",
              "    </tr>\n",
              "    <tr>\n",
              "      <th>102</th>\n",
              "      <td>0.0233</td>\n",
              "      <td>0.2734</td>\n",
              "      <td>-0.9447</td>\n",
              "      <td>0.0024</td>\n",
              "      <td>0.0089</td>\n",
              "      <td>0.0396</td>\n",
              "      <td>-0.0040</td>\n",
              "      <td>-0.0005</td>\n",
              "      <td>-0.0011</td>\n",
              "    </tr>\n",
              "    <tr>\n",
              "      <th>103</th>\n",
              "      <td>0.0602</td>\n",
              "      <td>0.2853</td>\n",
              "      <td>-1.0107</td>\n",
              "      <td>0.0437</td>\n",
              "      <td>0.0259</td>\n",
              "      <td>-0.0222</td>\n",
              "      <td>-0.0008</td>\n",
              "      <td>0.0027</td>\n",
              "      <td>0.0011</td>\n",
              "    </tr>\n",
              "    <tr>\n",
              "      <th>104</th>\n",
              "      <td>0.0026</td>\n",
              "      <td>0.2373</td>\n",
              "      <td>-0.9731</td>\n",
              "      <td>-0.0134</td>\n",
              "      <td>-0.0208</td>\n",
              "      <td>0.0129</td>\n",
              "      <td>-0.0008</td>\n",
              "      <td>0.0016</td>\n",
              "      <td>0.0011</td>\n",
              "    </tr>\n",
              "  </tbody>\n",
              "</table>\n",
              "</div>\n",
              "      <button class=\"colab-df-convert\" onclick=\"convertToInteractive('df-c82ec478-f06a-4222-9f8e-b3174de301c1')\"\n",
              "              title=\"Convert this dataframe to an interactive table.\"\n",
              "              style=\"display:none;\">\n",
              "        \n",
              "  <svg xmlns=\"http://www.w3.org/2000/svg\" height=\"24px\"viewBox=\"0 0 24 24\"\n",
              "       width=\"24px\">\n",
              "    <path d=\"M0 0h24v24H0V0z\" fill=\"none\"/>\n",
              "    <path d=\"M18.56 5.44l.94 2.06.94-2.06 2.06-.94-2.06-.94-.94-2.06-.94 2.06-2.06.94zm-11 1L8.5 8.5l.94-2.06 2.06-.94-2.06-.94L8.5 2.5l-.94 2.06-2.06.94zm10 10l.94 2.06.94-2.06 2.06-.94-2.06-.94-.94-2.06-.94 2.06-2.06.94z\"/><path d=\"M17.41 7.96l-1.37-1.37c-.4-.4-.92-.59-1.43-.59-.52 0-1.04.2-1.43.59L10.3 9.45l-7.72 7.72c-.78.78-.78 2.05 0 2.83L4 21.41c.39.39.9.59 1.41.59.51 0 1.02-.2 1.41-.59l7.78-7.78 2.81-2.81c.8-.78.8-2.07 0-2.86zM5.41 20L4 18.59l7.72-7.72 1.47 1.35L5.41 20z\"/>\n",
              "  </svg>\n",
              "      </button>\n",
              "      \n",
              "  <style>\n",
              "    .colab-df-container {\n",
              "      display:flex;\n",
              "      flex-wrap:wrap;\n",
              "      gap: 12px;\n",
              "    }\n",
              "\n",
              "    .colab-df-convert {\n",
              "      background-color: #E8F0FE;\n",
              "      border: none;\n",
              "      border-radius: 50%;\n",
              "      cursor: pointer;\n",
              "      display: none;\n",
              "      fill: #1967D2;\n",
              "      height: 32px;\n",
              "      padding: 0 0 0 0;\n",
              "      width: 32px;\n",
              "    }\n",
              "\n",
              "    .colab-df-convert:hover {\n",
              "      background-color: #E2EBFA;\n",
              "      box-shadow: 0px 1px 2px rgba(60, 64, 67, 0.3), 0px 1px 3px 1px rgba(60, 64, 67, 0.15);\n",
              "      fill: #174EA6;\n",
              "    }\n",
              "\n",
              "    [theme=dark] .colab-df-convert {\n",
              "      background-color: #3B4455;\n",
              "      fill: #D2E3FC;\n",
              "    }\n",
              "\n",
              "    [theme=dark] .colab-df-convert:hover {\n",
              "      background-color: #434B5C;\n",
              "      box-shadow: 0px 1px 3px 1px rgba(0, 0, 0, 0.15);\n",
              "      filter: drop-shadow(0px 1px 2px rgba(0, 0, 0, 0.3));\n",
              "      fill: #FFFFFF;\n",
              "    }\n",
              "  </style>\n",
              "\n",
              "      <script>\n",
              "        const buttonEl =\n",
              "          document.querySelector('#df-c82ec478-f06a-4222-9f8e-b3174de301c1 button.colab-df-convert');\n",
              "        buttonEl.style.display =\n",
              "          google.colab.kernel.accessAllowed ? 'block' : 'none';\n",
              "\n",
              "        async function convertToInteractive(key) {\n",
              "          const element = document.querySelector('#df-c82ec478-f06a-4222-9f8e-b3174de301c1');\n",
              "          const dataTable =\n",
              "            await google.colab.kernel.invokeFunction('convertToInteractive',\n",
              "                                                     [key], {});\n",
              "          if (!dataTable) return;\n",
              "\n",
              "          const docLinkHtml = 'Like what you see? Visit the ' +\n",
              "            '<a target=\"_blank\" href=https://colab.research.google.com/notebooks/data_table.ipynb>data table notebook</a>'\n",
              "            + ' to learn more about interactive tables.';\n",
              "          element.innerHTML = '';\n",
              "          dataTable['output_type'] = 'display_data';\n",
              "          await google.colab.output.renderOutput(dataTable, element);\n",
              "          const docLink = document.createElement('div');\n",
              "          docLink.innerHTML = docLinkHtml;\n",
              "          element.appendChild(docLink);\n",
              "        }\n",
              "      </script>\n",
              "    </div>\n",
              "  </div>\n",
              "  "
            ]
          },
          "metadata": {},
          "execution_count": 118
        }
      ]
    },
    {
      "cell_type": "code",
      "source": [
        "scaler = MinMaxScaler()\n",
        "t = scaler.fit_transform(test)"
      ],
      "metadata": {
        "id": "Epc5oGkwxTQ-"
      },
      "execution_count": 119,
      "outputs": []
    },
    {
      "cell_type": "code",
      "source": [
        "t = t.reshape(1, 4, 32, 9)"
      ],
      "metadata": {
        "id": "tur0DdnBA7AV"
      },
      "execution_count": 120,
      "outputs": []
    },
    {
      "cell_type": "code",
      "source": [
        "t.shape"
      ],
      "metadata": {
        "colab": {
          "base_uri": "https://localhost:8080/"
        },
        "id": "_67hz-5FBhNg",
        "outputId": "0430cc18-108d-4346-8b24-c24f425d95b2"
      },
      "execution_count": 121,
      "outputs": [
        {
          "output_type": "execute_result",
          "data": {
            "text/plain": [
              "(1, 4, 32, 9)"
            ]
          },
          "metadata": {},
          "execution_count": 121
        }
      ]
    },
    {
      "cell_type": "code",
      "source": [
        "y_pred = model.predict(t).argmax(axis=-1)\n",
        "print(\"The predicted class is: \", y_pred, class_labels[y_pred[0]])"
      ],
      "metadata": {
        "colab": {
          "base_uri": "https://localhost:8080/"
        },
        "id": "lfUcR5wOA1tV",
        "outputId": "079aafc8-3ad4-4133-f90e-41fb9e5e33ee"
      },
      "execution_count": 122,
      "outputs": [
        {
          "output_type": "stream",
          "name": "stdout",
          "text": [
            "1/1 [==============================] - 0s 18ms/step\n",
            "The predicted class is:  [0] WALKING\n"
          ]
        }
      ]
    },
    {
      "cell_type": "markdown",
      "source": [
        "#### Using a recorded data of Standing"
      ],
      "metadata": {
        "id": "zUfIemBT36wJ"
      }
    },
    {
      "cell_type": "code",
      "source": [
        "test = pd.read_csv(\"drive/MyDrive/UCI HAR Dataset/realtime/realtime-stand.csv\")\n",
        "test = test.iloc[100:228, 1:10]\n",
        "print(test.shape)\n",
        "test.head()"
      ],
      "metadata": {
        "colab": {
          "base_uri": "https://localhost:8080/",
          "height": 223
        },
        "outputId": "e0d9191f-9b86-4138-ec5b-c2e586bb709d",
        "id": "ntUaBT9k36wJ"
      },
      "execution_count": 123,
      "outputs": [
        {
          "output_type": "stream",
          "name": "stdout",
          "text": [
            "(128, 9)\n"
          ]
        },
        {
          "output_type": "execute_result",
          "data": {
            "text/plain": [
              "        gFx     gFy     gFz      ax      ay      az      wx      wy      wz\n",
              "100 -0.3506 -0.8365  0.2053 -0.2149  0.4639  0.7502  0.0557 -1.6089  0.4957\n",
              "101 -0.0436 -0.6935  0.2427  4.0680  2.0821  3.6742 -0.2607 -2.1128  0.4435\n",
              "102 -0.3103 -0.9653  0.0992 -1.5046  0.1780 -1.5640  0.3742 -0.5128 -0.4651\n",
              "103 -0.5418 -1.0237  0.3525 -2.1094 -0.6024  2.6830  0.6660  3.4266 -0.7868\n",
              "104 -0.8933 -0.9548  0.0308 -4.7839 -0.3658 -1.3908  0.0844 -1.2638 -0.0678"
            ],
            "text/html": [
              "\n",
              "  <div id=\"df-cddf860b-c70b-4f60-b267-c22c7080a386\">\n",
              "    <div class=\"colab-df-container\">\n",
              "      <div>\n",
              "<style scoped>\n",
              "    .dataframe tbody tr th:only-of-type {\n",
              "        vertical-align: middle;\n",
              "    }\n",
              "\n",
              "    .dataframe tbody tr th {\n",
              "        vertical-align: top;\n",
              "    }\n",
              "\n",
              "    .dataframe thead th {\n",
              "        text-align: right;\n",
              "    }\n",
              "</style>\n",
              "<table border=\"1\" class=\"dataframe\">\n",
              "  <thead>\n",
              "    <tr style=\"text-align: right;\">\n",
              "      <th></th>\n",
              "      <th>gFx</th>\n",
              "      <th>gFy</th>\n",
              "      <th>gFz</th>\n",
              "      <th>ax</th>\n",
              "      <th>ay</th>\n",
              "      <th>az</th>\n",
              "      <th>wx</th>\n",
              "      <th>wy</th>\n",
              "      <th>wz</th>\n",
              "    </tr>\n",
              "  </thead>\n",
              "  <tbody>\n",
              "    <tr>\n",
              "      <th>100</th>\n",
              "      <td>-0.3506</td>\n",
              "      <td>-0.8365</td>\n",
              "      <td>0.2053</td>\n",
              "      <td>-0.2149</td>\n",
              "      <td>0.4639</td>\n",
              "      <td>0.7502</td>\n",
              "      <td>0.0557</td>\n",
              "      <td>-1.6089</td>\n",
              "      <td>0.4957</td>\n",
              "    </tr>\n",
              "    <tr>\n",
              "      <th>101</th>\n",
              "      <td>-0.0436</td>\n",
              "      <td>-0.6935</td>\n",
              "      <td>0.2427</td>\n",
              "      <td>4.0680</td>\n",
              "      <td>2.0821</td>\n",
              "      <td>3.6742</td>\n",
              "      <td>-0.2607</td>\n",
              "      <td>-2.1128</td>\n",
              "      <td>0.4435</td>\n",
              "    </tr>\n",
              "    <tr>\n",
              "      <th>102</th>\n",
              "      <td>-0.3103</td>\n",
              "      <td>-0.9653</td>\n",
              "      <td>0.0992</td>\n",
              "      <td>-1.5046</td>\n",
              "      <td>0.1780</td>\n",
              "      <td>-1.5640</td>\n",
              "      <td>0.3742</td>\n",
              "      <td>-0.5128</td>\n",
              "      <td>-0.4651</td>\n",
              "    </tr>\n",
              "    <tr>\n",
              "      <th>103</th>\n",
              "      <td>-0.5418</td>\n",
              "      <td>-1.0237</td>\n",
              "      <td>0.3525</td>\n",
              "      <td>-2.1094</td>\n",
              "      <td>-0.6024</td>\n",
              "      <td>2.6830</td>\n",
              "      <td>0.6660</td>\n",
              "      <td>3.4266</td>\n",
              "      <td>-0.7868</td>\n",
              "    </tr>\n",
              "    <tr>\n",
              "      <th>104</th>\n",
              "      <td>-0.8933</td>\n",
              "      <td>-0.9548</td>\n",
              "      <td>0.0308</td>\n",
              "      <td>-4.7839</td>\n",
              "      <td>-0.3658</td>\n",
              "      <td>-1.3908</td>\n",
              "      <td>0.0844</td>\n",
              "      <td>-1.2638</td>\n",
              "      <td>-0.0678</td>\n",
              "    </tr>\n",
              "  </tbody>\n",
              "</table>\n",
              "</div>\n",
              "      <button class=\"colab-df-convert\" onclick=\"convertToInteractive('df-cddf860b-c70b-4f60-b267-c22c7080a386')\"\n",
              "              title=\"Convert this dataframe to an interactive table.\"\n",
              "              style=\"display:none;\">\n",
              "        \n",
              "  <svg xmlns=\"http://www.w3.org/2000/svg\" height=\"24px\"viewBox=\"0 0 24 24\"\n",
              "       width=\"24px\">\n",
              "    <path d=\"M0 0h24v24H0V0z\" fill=\"none\"/>\n",
              "    <path d=\"M18.56 5.44l.94 2.06.94-2.06 2.06-.94-2.06-.94-.94-2.06-.94 2.06-2.06.94zm-11 1L8.5 8.5l.94-2.06 2.06-.94-2.06-.94L8.5 2.5l-.94 2.06-2.06.94zm10 10l.94 2.06.94-2.06 2.06-.94-2.06-.94-.94-2.06-.94 2.06-2.06.94z\"/><path d=\"M17.41 7.96l-1.37-1.37c-.4-.4-.92-.59-1.43-.59-.52 0-1.04.2-1.43.59L10.3 9.45l-7.72 7.72c-.78.78-.78 2.05 0 2.83L4 21.41c.39.39.9.59 1.41.59.51 0 1.02-.2 1.41-.59l7.78-7.78 2.81-2.81c.8-.78.8-2.07 0-2.86zM5.41 20L4 18.59l7.72-7.72 1.47 1.35L5.41 20z\"/>\n",
              "  </svg>\n",
              "      </button>\n",
              "      \n",
              "  <style>\n",
              "    .colab-df-container {\n",
              "      display:flex;\n",
              "      flex-wrap:wrap;\n",
              "      gap: 12px;\n",
              "    }\n",
              "\n",
              "    .colab-df-convert {\n",
              "      background-color: #E8F0FE;\n",
              "      border: none;\n",
              "      border-radius: 50%;\n",
              "      cursor: pointer;\n",
              "      display: none;\n",
              "      fill: #1967D2;\n",
              "      height: 32px;\n",
              "      padding: 0 0 0 0;\n",
              "      width: 32px;\n",
              "    }\n",
              "\n",
              "    .colab-df-convert:hover {\n",
              "      background-color: #E2EBFA;\n",
              "      box-shadow: 0px 1px 2px rgba(60, 64, 67, 0.3), 0px 1px 3px 1px rgba(60, 64, 67, 0.15);\n",
              "      fill: #174EA6;\n",
              "    }\n",
              "\n",
              "    [theme=dark] .colab-df-convert {\n",
              "      background-color: #3B4455;\n",
              "      fill: #D2E3FC;\n",
              "    }\n",
              "\n",
              "    [theme=dark] .colab-df-convert:hover {\n",
              "      background-color: #434B5C;\n",
              "      box-shadow: 0px 1px 3px 1px rgba(0, 0, 0, 0.15);\n",
              "      filter: drop-shadow(0px 1px 2px rgba(0, 0, 0, 0.3));\n",
              "      fill: #FFFFFF;\n",
              "    }\n",
              "  </style>\n",
              "\n",
              "      <script>\n",
              "        const buttonEl =\n",
              "          document.querySelector('#df-cddf860b-c70b-4f60-b267-c22c7080a386 button.colab-df-convert');\n",
              "        buttonEl.style.display =\n",
              "          google.colab.kernel.accessAllowed ? 'block' : 'none';\n",
              "\n",
              "        async function convertToInteractive(key) {\n",
              "          const element = document.querySelector('#df-cddf860b-c70b-4f60-b267-c22c7080a386');\n",
              "          const dataTable =\n",
              "            await google.colab.kernel.invokeFunction('convertToInteractive',\n",
              "                                                     [key], {});\n",
              "          if (!dataTable) return;\n",
              "\n",
              "          const docLinkHtml = 'Like what you see? Visit the ' +\n",
              "            '<a target=\"_blank\" href=https://colab.research.google.com/notebooks/data_table.ipynb>data table notebook</a>'\n",
              "            + ' to learn more about interactive tables.';\n",
              "          element.innerHTML = '';\n",
              "          dataTable['output_type'] = 'display_data';\n",
              "          await google.colab.output.renderOutput(dataTable, element);\n",
              "          const docLink = document.createElement('div');\n",
              "          docLink.innerHTML = docLinkHtml;\n",
              "          element.appendChild(docLink);\n",
              "        }\n",
              "      </script>\n",
              "    </div>\n",
              "  </div>\n",
              "  "
            ]
          },
          "metadata": {},
          "execution_count": 123
        }
      ]
    },
    {
      "cell_type": "code",
      "source": [
        "test['gFx'] = test['ax'] - test['gFx']\n",
        "test['gFy'] = test['ay'] - test['gFy']\n",
        "test['gFz'] = test['az'] - test['gFz']\n",
        "test.rename(columns = {'gFx' : 'bax', 'gFy' : 'bay', 'gFz' : 'baz'}, inplace = True)\n",
        "test.head()"
      ],
      "metadata": {
        "colab": {
          "base_uri": "https://localhost:8080/",
          "height": 206
        },
        "outputId": "8ef4cb79-a827-4b1c-c7be-18138eb56a16",
        "id": "JZKia7Mc36wK"
      },
      "execution_count": 124,
      "outputs": [
        {
          "output_type": "execute_result",
          "data": {
            "text/plain": [
              "        bax     bay     baz      ax      ay      az      wx      wy      wz\n",
              "100  0.1357  1.3004  0.5449 -0.2149  0.4639  0.7502  0.0557 -1.6089  0.4957\n",
              "101  4.1116  2.7756  3.4315  4.0680  2.0821  3.6742 -0.2607 -2.1128  0.4435\n",
              "102 -1.1943  1.1433 -1.6632 -1.5046  0.1780 -1.5640  0.3742 -0.5128 -0.4651\n",
              "103 -1.5676  0.4213  2.3305 -2.1094 -0.6024  2.6830  0.6660  3.4266 -0.7868\n",
              "104 -3.8906  0.5890 -1.4216 -4.7839 -0.3658 -1.3908  0.0844 -1.2638 -0.0678"
            ],
            "text/html": [
              "\n",
              "  <div id=\"df-ac50b885-a83f-45f9-93c9-ef4137c0dac0\">\n",
              "    <div class=\"colab-df-container\">\n",
              "      <div>\n",
              "<style scoped>\n",
              "    .dataframe tbody tr th:only-of-type {\n",
              "        vertical-align: middle;\n",
              "    }\n",
              "\n",
              "    .dataframe tbody tr th {\n",
              "        vertical-align: top;\n",
              "    }\n",
              "\n",
              "    .dataframe thead th {\n",
              "        text-align: right;\n",
              "    }\n",
              "</style>\n",
              "<table border=\"1\" class=\"dataframe\">\n",
              "  <thead>\n",
              "    <tr style=\"text-align: right;\">\n",
              "      <th></th>\n",
              "      <th>bax</th>\n",
              "      <th>bay</th>\n",
              "      <th>baz</th>\n",
              "      <th>ax</th>\n",
              "      <th>ay</th>\n",
              "      <th>az</th>\n",
              "      <th>wx</th>\n",
              "      <th>wy</th>\n",
              "      <th>wz</th>\n",
              "    </tr>\n",
              "  </thead>\n",
              "  <tbody>\n",
              "    <tr>\n",
              "      <th>100</th>\n",
              "      <td>0.1357</td>\n",
              "      <td>1.3004</td>\n",
              "      <td>0.5449</td>\n",
              "      <td>-0.2149</td>\n",
              "      <td>0.4639</td>\n",
              "      <td>0.7502</td>\n",
              "      <td>0.0557</td>\n",
              "      <td>-1.6089</td>\n",
              "      <td>0.4957</td>\n",
              "    </tr>\n",
              "    <tr>\n",
              "      <th>101</th>\n",
              "      <td>4.1116</td>\n",
              "      <td>2.7756</td>\n",
              "      <td>3.4315</td>\n",
              "      <td>4.0680</td>\n",
              "      <td>2.0821</td>\n",
              "      <td>3.6742</td>\n",
              "      <td>-0.2607</td>\n",
              "      <td>-2.1128</td>\n",
              "      <td>0.4435</td>\n",
              "    </tr>\n",
              "    <tr>\n",
              "      <th>102</th>\n",
              "      <td>-1.1943</td>\n",
              "      <td>1.1433</td>\n",
              "      <td>-1.6632</td>\n",
              "      <td>-1.5046</td>\n",
              "      <td>0.1780</td>\n",
              "      <td>-1.5640</td>\n",
              "      <td>0.3742</td>\n",
              "      <td>-0.5128</td>\n",
              "      <td>-0.4651</td>\n",
              "    </tr>\n",
              "    <tr>\n",
              "      <th>103</th>\n",
              "      <td>-1.5676</td>\n",
              "      <td>0.4213</td>\n",
              "      <td>2.3305</td>\n",
              "      <td>-2.1094</td>\n",
              "      <td>-0.6024</td>\n",
              "      <td>2.6830</td>\n",
              "      <td>0.6660</td>\n",
              "      <td>3.4266</td>\n",
              "      <td>-0.7868</td>\n",
              "    </tr>\n",
              "    <tr>\n",
              "      <th>104</th>\n",
              "      <td>-3.8906</td>\n",
              "      <td>0.5890</td>\n",
              "      <td>-1.4216</td>\n",
              "      <td>-4.7839</td>\n",
              "      <td>-0.3658</td>\n",
              "      <td>-1.3908</td>\n",
              "      <td>0.0844</td>\n",
              "      <td>-1.2638</td>\n",
              "      <td>-0.0678</td>\n",
              "    </tr>\n",
              "  </tbody>\n",
              "</table>\n",
              "</div>\n",
              "      <button class=\"colab-df-convert\" onclick=\"convertToInteractive('df-ac50b885-a83f-45f9-93c9-ef4137c0dac0')\"\n",
              "              title=\"Convert this dataframe to an interactive table.\"\n",
              "              style=\"display:none;\">\n",
              "        \n",
              "  <svg xmlns=\"http://www.w3.org/2000/svg\" height=\"24px\"viewBox=\"0 0 24 24\"\n",
              "       width=\"24px\">\n",
              "    <path d=\"M0 0h24v24H0V0z\" fill=\"none\"/>\n",
              "    <path d=\"M18.56 5.44l.94 2.06.94-2.06 2.06-.94-2.06-.94-.94-2.06-.94 2.06-2.06.94zm-11 1L8.5 8.5l.94-2.06 2.06-.94-2.06-.94L8.5 2.5l-.94 2.06-2.06.94zm10 10l.94 2.06.94-2.06 2.06-.94-2.06-.94-.94-2.06-.94 2.06-2.06.94z\"/><path d=\"M17.41 7.96l-1.37-1.37c-.4-.4-.92-.59-1.43-.59-.52 0-1.04.2-1.43.59L10.3 9.45l-7.72 7.72c-.78.78-.78 2.05 0 2.83L4 21.41c.39.39.9.59 1.41.59.51 0 1.02-.2 1.41-.59l7.78-7.78 2.81-2.81c.8-.78.8-2.07 0-2.86zM5.41 20L4 18.59l7.72-7.72 1.47 1.35L5.41 20z\"/>\n",
              "  </svg>\n",
              "      </button>\n",
              "      \n",
              "  <style>\n",
              "    .colab-df-container {\n",
              "      display:flex;\n",
              "      flex-wrap:wrap;\n",
              "      gap: 12px;\n",
              "    }\n",
              "\n",
              "    .colab-df-convert {\n",
              "      background-color: #E8F0FE;\n",
              "      border: none;\n",
              "      border-radius: 50%;\n",
              "      cursor: pointer;\n",
              "      display: none;\n",
              "      fill: #1967D2;\n",
              "      height: 32px;\n",
              "      padding: 0 0 0 0;\n",
              "      width: 32px;\n",
              "    }\n",
              "\n",
              "    .colab-df-convert:hover {\n",
              "      background-color: #E2EBFA;\n",
              "      box-shadow: 0px 1px 2px rgba(60, 64, 67, 0.3), 0px 1px 3px 1px rgba(60, 64, 67, 0.15);\n",
              "      fill: #174EA6;\n",
              "    }\n",
              "\n",
              "    [theme=dark] .colab-df-convert {\n",
              "      background-color: #3B4455;\n",
              "      fill: #D2E3FC;\n",
              "    }\n",
              "\n",
              "    [theme=dark] .colab-df-convert:hover {\n",
              "      background-color: #434B5C;\n",
              "      box-shadow: 0px 1px 3px 1px rgba(0, 0, 0, 0.15);\n",
              "      filter: drop-shadow(0px 1px 2px rgba(0, 0, 0, 0.3));\n",
              "      fill: #FFFFFF;\n",
              "    }\n",
              "  </style>\n",
              "\n",
              "      <script>\n",
              "        const buttonEl =\n",
              "          document.querySelector('#df-ac50b885-a83f-45f9-93c9-ef4137c0dac0 button.colab-df-convert');\n",
              "        buttonEl.style.display =\n",
              "          google.colab.kernel.accessAllowed ? 'block' : 'none';\n",
              "\n",
              "        async function convertToInteractive(key) {\n",
              "          const element = document.querySelector('#df-ac50b885-a83f-45f9-93c9-ef4137c0dac0');\n",
              "          const dataTable =\n",
              "            await google.colab.kernel.invokeFunction('convertToInteractive',\n",
              "                                                     [key], {});\n",
              "          if (!dataTable) return;\n",
              "\n",
              "          const docLinkHtml = 'Like what you see? Visit the ' +\n",
              "            '<a target=\"_blank\" href=https://colab.research.google.com/notebooks/data_table.ipynb>data table notebook</a>'\n",
              "            + ' to learn more about interactive tables.';\n",
              "          element.innerHTML = '';\n",
              "          dataTable['output_type'] = 'display_data';\n",
              "          await google.colab.output.renderOutput(dataTable, element);\n",
              "          const docLink = document.createElement('div');\n",
              "          docLink.innerHTML = docLinkHtml;\n",
              "          element.appendChild(docLink);\n",
              "        }\n",
              "      </script>\n",
              "    </div>\n",
              "  </div>\n",
              "  "
            ]
          },
          "metadata": {},
          "execution_count": 124
        }
      ]
    },
    {
      "cell_type": "code",
      "source": [
        "scaler = MinMaxScaler()\n",
        "t = scaler.fit_transform(test)"
      ],
      "metadata": {
        "id": "sFy2T7EG36wK"
      },
      "execution_count": 125,
      "outputs": []
    },
    {
      "cell_type": "code",
      "source": [
        "t = t.reshape(1, 4, 32, 9)"
      ],
      "metadata": {
        "id": "Bxk88ZVu36wK"
      },
      "execution_count": 126,
      "outputs": []
    },
    {
      "cell_type": "code",
      "source": [
        "t.shape"
      ],
      "metadata": {
        "colab": {
          "base_uri": "https://localhost:8080/"
        },
        "outputId": "bc7dd09e-fc9b-40e6-a7c3-cb37d9cd8b46",
        "id": "wBa6Y3Lv36wK"
      },
      "execution_count": 127,
      "outputs": [
        {
          "output_type": "execute_result",
          "data": {
            "text/plain": [
              "(1, 4, 32, 9)"
            ]
          },
          "metadata": {},
          "execution_count": 127
        }
      ]
    },
    {
      "cell_type": "code",
      "source": [
        "y_pred = model.predict(t).argmax(axis=-1)\n",
        "print(\"The predicted class is: \", y_pred, class_labels[y_pred[0]])"
      ],
      "metadata": {
        "colab": {
          "base_uri": "https://localhost:8080/"
        },
        "outputId": "c5478110-068d-49d2-da1d-566321590b6a",
        "id": "ieDnR5oR36wK"
      },
      "execution_count": 129,
      "outputs": [
        {
          "output_type": "stream",
          "name": "stdout",
          "text": [
            "1/1 [==============================] - 0s 24ms/step\n",
            "The predicted class is:  [4] STANDING\n"
          ]
        }
      ]
    }
  ]
}