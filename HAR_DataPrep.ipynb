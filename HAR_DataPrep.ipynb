{
  "nbformat": 4,
  "nbformat_minor": 0,
  "metadata": {
    "colab": {
      "provenance": [],
      "include_colab_link": true
    },
    "kernelspec": {
      "name": "python3",
      "display_name": "Python 3"
    },
    "language_info": {
      "name": "python"
    }
  },
  "cells": [
    {
      "cell_type": "markdown",
      "metadata": {
        "id": "view-in-github",
        "colab_type": "text"
      },
      "source": [
        "<a href=\"https://colab.research.google.com/github/Aniket-tempest/HAR-Employee-Identification/blob/main/HAR_DataPrep.ipynb\" target=\"_parent\"><img src=\"https://colab.research.google.com/assets/colab-badge.svg\" alt=\"Open In Colab\"/></a>"
      ]
    },
    {
      "cell_type": "markdown",
      "source": [
        "# Data Preprocessing\n",
        "## Import"
      ],
      "metadata": {
        "id": "ITdjUkZj-1dx"
      }
    },
    {
      "cell_type": "code",
      "execution_count": null,
      "metadata": {
        "id": "QKuva0n542a4"
      },
      "outputs": [],
      "source": [
        "import numpy as np\n",
        "import pandas as pd\n",
        "import seaborn as sns\n",
        "import matplotlib.pyplot as plt\n",
        "import sklearn\n",
        "from sklearn.pipeline import make_pipeline, Pipeline\n",
        "from sklearn.decomposition import PCA\n",
        "from sklearn.preprocessing import StandardScaler\n",
        "from sklearn.ensemble import RandomForestClassifier\n",
        "from sklearn.linear_model import LogisticRegression\n",
        "from sklearn.model_selection import GridSearchCV"
      ]
    },
    {
      "cell_type": "markdown",
      "source": [
        "# Loading Data"
      ],
      "metadata": {
        "id": "bgibqslTzLPu"
      }
    },
    {
      "cell_type": "code",
      "source": [
        "from google.colab import drive\n",
        "drive.mount('/content/drive')"
      ],
      "metadata": {
        "colab": {
          "base_uri": "https://localhost:8080/"
        },
        "id": "-gmvj0jqIIY3",
        "outputId": "0c0aa56d-9c76-492d-d80a-0d7a26d1add3"
      },
      "execution_count": null,
      "outputs": [
        {
          "output_type": "stream",
          "name": "stdout",
          "text": [
            "Mounted at /content/drive\n"
          ]
        }
      ]
    },
    {
      "cell_type": "code",
      "source": [
        "# get the features from the file features.txt\n",
        "features = list()\n",
        "with open('drive/MyDrive/UCI HAR Dataset/features.txt') as f:\n",
        "    features = [line.split()[1] for line in f.readlines()]\n",
        "print('No of Features: {}'.format(len(features)))"
      ],
      "metadata": {
        "colab": {
          "base_uri": "https://localhost:8080/"
        },
        "id": "HHb_vVgY9_QW",
        "outputId": "d45cdc7a-03c4-411a-b637-3918be8d4e39"
      },
      "execution_count": null,
      "outputs": [
        {
          "output_type": "stream",
          "name": "stdout",
          "text": [
            "No of Features: 561\n"
          ]
        }
      ]
    },
    {
      "cell_type": "markdown",
      "source": [
        "### Train Data"
      ],
      "metadata": {
        "id": "VgPE-puI-GZR"
      }
    },
    {
      "cell_type": "code",
      "source": [
        "# get the data from txt files to pandas dataffame\n",
        "X_train = pd.read_csv('drive/MyDrive/UCI HAR Dataset/train/X_train.txt', delim_whitespace=True, header=None)\n",
        "X_train.columns = [features]\n",
        "# add subject column to the dataframe\n",
        "X_train['subject'] = pd.read_csv('drive/MyDrive/UCI HAR Dataset/train/subject_train.txt', header=None, squeeze=True)\n",
        "\n",
        "y_train = pd.read_csv('drive/MyDrive/UCI HAR Dataset/train/y_train.txt', names=['Activity'], squeeze=True)\n",
        "y_train_labels = y_train.map({1: 'WALKING', 2:'WALKING_UPSTAIRS',3:'WALKING_DOWNSTAIRS',\\\n",
        "                       4:'SITTING', 5:'STANDING',6:'LAYING'})\n",
        "\n",
        "# put all columns in a single dataframe\n",
        "train = X_train\n",
        "train['Activity'] = y_train\n",
        "train['ActivityName'] = y_train_labels\n",
        "train.sample(2)"
      ],
      "metadata": {
        "colab": {
          "base_uri": "https://localhost:8080/",
          "height": 223
        },
        "id": "jAY8rTdM-KKb",
        "outputId": "7d303a78-3aab-42af-b13d-72c0322a2011"
      },
      "execution_count": null,
      "outputs": [
        {
          "output_type": "execute_result",
          "data": {
            "text/plain": [
              "     tBodyAcc-mean()-X tBodyAcc-mean()-Y tBodyAcc-mean()-Z tBodyAcc-std()-X  \\\n",
              "6878          0.277417         -0.016868         -0.108601        -0.993599   \n",
              "3442          0.275638         -0.015203         -0.122476        -0.997891   \n",
              "\n",
              "     tBodyAcc-std()-Y tBodyAcc-std()-Z tBodyAcc-mad()-X tBodyAcc-mad()-Y  \\\n",
              "6878        -0.996214        -0.997417        -0.993911         -0.99595   \n",
              "3442        -0.991359        -0.989268        -0.997980         -0.99071   \n",
              "\n",
              "     tBodyAcc-mad()-Z tBodyAcc-max()-X  ... angle(tBodyAccMean,gravity)  \\\n",
              "6878        -0.997326        -0.937886  ...                   -0.245204   \n",
              "3442        -0.987728        -0.945770  ...                    0.055826   \n",
              "\n",
              "     angle(tBodyAccJerkMean),gravityMean) angle(tBodyGyroMean,gravityMean)  \\\n",
              "6878                            -0.147565                        -0.670379   \n",
              "3442                            -0.208450                        -0.542847   \n",
              "\n",
              "     angle(tBodyGyroJerkMean,gravityMean) angle(X,gravityMean)  \\\n",
              "6878                            -0.492898             0.493694   \n",
              "3442                             0.393260            -0.701697   \n",
              "\n",
              "     angle(Y,gravityMean) angle(Z,gravityMean) subject Activity ActivityName  \n",
              "6878            -0.614497            -0.380443      29        6       LAYING  \n",
              "3442             0.299009             0.064672      17        5     STANDING  \n",
              "\n",
              "[2 rows x 564 columns]"
            ],
            "text/html": [
              "\n",
              "  <div id=\"df-29b58006-6137-4e04-8b70-bd9605e3f196\">\n",
              "    <div class=\"colab-df-container\">\n",
              "      <div>\n",
              "<style scoped>\n",
              "    .dataframe tbody tr th:only-of-type {\n",
              "        vertical-align: middle;\n",
              "    }\n",
              "\n",
              "    .dataframe tbody tr th {\n",
              "        vertical-align: top;\n",
              "    }\n",
              "\n",
              "    .dataframe thead tr th {\n",
              "        text-align: left;\n",
              "    }\n",
              "</style>\n",
              "<table border=\"1\" class=\"dataframe\">\n",
              "  <thead>\n",
              "    <tr>\n",
              "      <th></th>\n",
              "      <th>tBodyAcc-mean()-X</th>\n",
              "      <th>tBodyAcc-mean()-Y</th>\n",
              "      <th>tBodyAcc-mean()-Z</th>\n",
              "      <th>tBodyAcc-std()-X</th>\n",
              "      <th>tBodyAcc-std()-Y</th>\n",
              "      <th>tBodyAcc-std()-Z</th>\n",
              "      <th>tBodyAcc-mad()-X</th>\n",
              "      <th>tBodyAcc-mad()-Y</th>\n",
              "      <th>tBodyAcc-mad()-Z</th>\n",
              "      <th>tBodyAcc-max()-X</th>\n",
              "      <th>...</th>\n",
              "      <th>angle(tBodyAccMean,gravity)</th>\n",
              "      <th>angle(tBodyAccJerkMean),gravityMean)</th>\n",
              "      <th>angle(tBodyGyroMean,gravityMean)</th>\n",
              "      <th>angle(tBodyGyroJerkMean,gravityMean)</th>\n",
              "      <th>angle(X,gravityMean)</th>\n",
              "      <th>angle(Y,gravityMean)</th>\n",
              "      <th>angle(Z,gravityMean)</th>\n",
              "      <th>subject</th>\n",
              "      <th>Activity</th>\n",
              "      <th>ActivityName</th>\n",
              "    </tr>\n",
              "  </thead>\n",
              "  <tbody>\n",
              "    <tr>\n",
              "      <th>6878</th>\n",
              "      <td>0.277417</td>\n",
              "      <td>-0.016868</td>\n",
              "      <td>-0.108601</td>\n",
              "      <td>-0.993599</td>\n",
              "      <td>-0.996214</td>\n",
              "      <td>-0.997417</td>\n",
              "      <td>-0.993911</td>\n",
              "      <td>-0.99595</td>\n",
              "      <td>-0.997326</td>\n",
              "      <td>-0.937886</td>\n",
              "      <td>...</td>\n",
              "      <td>-0.245204</td>\n",
              "      <td>-0.147565</td>\n",
              "      <td>-0.670379</td>\n",
              "      <td>-0.492898</td>\n",
              "      <td>0.493694</td>\n",
              "      <td>-0.614497</td>\n",
              "      <td>-0.380443</td>\n",
              "      <td>29</td>\n",
              "      <td>6</td>\n",
              "      <td>LAYING</td>\n",
              "    </tr>\n",
              "    <tr>\n",
              "      <th>3442</th>\n",
              "      <td>0.275638</td>\n",
              "      <td>-0.015203</td>\n",
              "      <td>-0.122476</td>\n",
              "      <td>-0.997891</td>\n",
              "      <td>-0.991359</td>\n",
              "      <td>-0.989268</td>\n",
              "      <td>-0.997980</td>\n",
              "      <td>-0.99071</td>\n",
              "      <td>-0.987728</td>\n",
              "      <td>-0.945770</td>\n",
              "      <td>...</td>\n",
              "      <td>0.055826</td>\n",
              "      <td>-0.208450</td>\n",
              "      <td>-0.542847</td>\n",
              "      <td>0.393260</td>\n",
              "      <td>-0.701697</td>\n",
              "      <td>0.299009</td>\n",
              "      <td>0.064672</td>\n",
              "      <td>17</td>\n",
              "      <td>5</td>\n",
              "      <td>STANDING</td>\n",
              "    </tr>\n",
              "  </tbody>\n",
              "</table>\n",
              "<p>2 rows × 564 columns</p>\n",
              "</div>\n",
              "      <button class=\"colab-df-convert\" onclick=\"convertToInteractive('df-29b58006-6137-4e04-8b70-bd9605e3f196')\"\n",
              "              title=\"Convert this dataframe to an interactive table.\"\n",
              "              style=\"display:none;\">\n",
              "        \n",
              "  <svg xmlns=\"http://www.w3.org/2000/svg\" height=\"24px\"viewBox=\"0 0 24 24\"\n",
              "       width=\"24px\">\n",
              "    <path d=\"M0 0h24v24H0V0z\" fill=\"none\"/>\n",
              "    <path d=\"M18.56 5.44l.94 2.06.94-2.06 2.06-.94-2.06-.94-.94-2.06-.94 2.06-2.06.94zm-11 1L8.5 8.5l.94-2.06 2.06-.94-2.06-.94L8.5 2.5l-.94 2.06-2.06.94zm10 10l.94 2.06.94-2.06 2.06-.94-2.06-.94-.94-2.06-.94 2.06-2.06.94z\"/><path d=\"M17.41 7.96l-1.37-1.37c-.4-.4-.92-.59-1.43-.59-.52 0-1.04.2-1.43.59L10.3 9.45l-7.72 7.72c-.78.78-.78 2.05 0 2.83L4 21.41c.39.39.9.59 1.41.59.51 0 1.02-.2 1.41-.59l7.78-7.78 2.81-2.81c.8-.78.8-2.07 0-2.86zM5.41 20L4 18.59l7.72-7.72 1.47 1.35L5.41 20z\"/>\n",
              "  </svg>\n",
              "      </button>\n",
              "      \n",
              "  <style>\n",
              "    .colab-df-container {\n",
              "      display:flex;\n",
              "      flex-wrap:wrap;\n",
              "      gap: 12px;\n",
              "    }\n",
              "\n",
              "    .colab-df-convert {\n",
              "      background-color: #E8F0FE;\n",
              "      border: none;\n",
              "      border-radius: 50%;\n",
              "      cursor: pointer;\n",
              "      display: none;\n",
              "      fill: #1967D2;\n",
              "      height: 32px;\n",
              "      padding: 0 0 0 0;\n",
              "      width: 32px;\n",
              "    }\n",
              "\n",
              "    .colab-df-convert:hover {\n",
              "      background-color: #E2EBFA;\n",
              "      box-shadow: 0px 1px 2px rgba(60, 64, 67, 0.3), 0px 1px 3px 1px rgba(60, 64, 67, 0.15);\n",
              "      fill: #174EA6;\n",
              "    }\n",
              "\n",
              "    [theme=dark] .colab-df-convert {\n",
              "      background-color: #3B4455;\n",
              "      fill: #D2E3FC;\n",
              "    }\n",
              "\n",
              "    [theme=dark] .colab-df-convert:hover {\n",
              "      background-color: #434B5C;\n",
              "      box-shadow: 0px 1px 3px 1px rgba(0, 0, 0, 0.15);\n",
              "      filter: drop-shadow(0px 1px 2px rgba(0, 0, 0, 0.3));\n",
              "      fill: #FFFFFF;\n",
              "    }\n",
              "  </style>\n",
              "\n",
              "      <script>\n",
              "        const buttonEl =\n",
              "          document.querySelector('#df-29b58006-6137-4e04-8b70-bd9605e3f196 button.colab-df-convert');\n",
              "        buttonEl.style.display =\n",
              "          google.colab.kernel.accessAllowed ? 'block' : 'none';\n",
              "\n",
              "        async function convertToInteractive(key) {\n",
              "          const element = document.querySelector('#df-29b58006-6137-4e04-8b70-bd9605e3f196');\n",
              "          const dataTable =\n",
              "            await google.colab.kernel.invokeFunction('convertToInteractive',\n",
              "                                                     [key], {});\n",
              "          if (!dataTable) return;\n",
              "\n",
              "          const docLinkHtml = 'Like what you see? Visit the ' +\n",
              "            '<a target=\"_blank\" href=https://colab.research.google.com/notebooks/data_table.ipynb>data table notebook</a>'\n",
              "            + ' to learn more about interactive tables.';\n",
              "          element.innerHTML = '';\n",
              "          dataTable['output_type'] = 'display_data';\n",
              "          await google.colab.output.renderOutput(dataTable, element);\n",
              "          const docLink = document.createElement('div');\n",
              "          docLink.innerHTML = docLinkHtml;\n",
              "          element.appendChild(docLink);\n",
              "        }\n",
              "      </script>\n",
              "    </div>\n",
              "  </div>\n",
              "  "
            ]
          },
          "metadata": {},
          "execution_count": 8
        }
      ]
    },
    {
      "cell_type": "code",
      "source": [
        "train.shape"
      ],
      "metadata": {
        "colab": {
          "base_uri": "https://localhost:8080/"
        },
        "id": "X5sclfNC-eSq",
        "outputId": "e0f494d3-d93b-482f-8370-8295965388bc"
      },
      "execution_count": null,
      "outputs": [
        {
          "output_type": "execute_result",
          "data": {
            "text/plain": [
              "(7352, 564)"
            ]
          },
          "metadata": {},
          "execution_count": 9
        }
      ]
    },
    {
      "cell_type": "markdown",
      "source": [
        "### Test Data"
      ],
      "metadata": {
        "id": "CiuPc3a_-Voi"
      }
    },
    {
      "cell_type": "code",
      "source": [
        "# get the data from txt files to pandas dataffame\n",
        "X_test = pd.read_csv('drive/MyDrive/UCI HAR Dataset/test/X_test.txt', delim_whitespace=True, header=None)\n",
        "X_test.columns = [features]\n",
        "# add subject column to the dataframe\n",
        "X_test['subject'] = pd.read_csv('drive/MyDrive/UCI HAR Dataset/test/subject_test.txt', header=None, squeeze=True)\n",
        "\n",
        "# get y labels from the txt file\n",
        "y_test = pd.read_csv('drive/MyDrive/UCI HAR Dataset/test/y_test.txt', names=['Activity'], squeeze=True)\n",
        "y_test_labels = y_test.map({1: 'WALKING', 2:'WALKING_UPSTAIRS',3:'WALKING_DOWNSTAIRS',\\\n",
        "                       4:'SITTING', 5:'STANDING',6:'LAYING'})\n",
        "\n",
        "\n",
        "# put all columns in a single dataframe\n",
        "test = X_test\n",
        "test['Activity'] = y_test\n",
        "test['ActivityName'] = y_test_labels\n",
        "test.sample(2)"
      ],
      "metadata": {
        "colab": {
          "base_uri": "https://localhost:8080/",
          "height": 223
        },
        "id": "GazXQqfk-XmK",
        "outputId": "93da0fc8-6a52-42d0-ada7-f11613af0abc"
      },
      "execution_count": null,
      "outputs": [
        {
          "output_type": "execute_result",
          "data": {
            "text/plain": [
              "     tBodyAcc-mean()-X tBodyAcc-mean()-Y tBodyAcc-mean()-Z tBodyAcc-std()-X  \\\n",
              "1291          0.199898         -0.004180         -0.118058        -0.235225   \n",
              "1766          0.271549         -0.016906         -0.110770        -0.996921   \n",
              "\n",
              "     tBodyAcc-std()-Y tBodyAcc-std()-Z tBodyAcc-mad()-X tBodyAcc-mad()-Y  \\\n",
              "1291        -0.213449        -0.350522        -0.296159        -0.246252   \n",
              "1766        -0.989715        -0.986132        -0.997300        -0.988802   \n",
              "\n",
              "     tBodyAcc-mad()-Z tBodyAcc-max()-X  ... angle(tBodyAccMean,gravity)  \\\n",
              "1291        -0.350766         0.018885  ...                    0.788674   \n",
              "1766        -0.984284        -0.941987  ...                    0.162022   \n",
              "\n",
              "     angle(tBodyAccJerkMean),gravityMean) angle(tBodyGyroMean,gravityMean)  \\\n",
              "1291                            -0.908509                        -0.386591   \n",
              "1766                            -0.701201                         0.410483   \n",
              "\n",
              "     angle(tBodyGyroJerkMean,gravityMean) angle(X,gravityMean)  \\\n",
              "1291                             0.703830            -0.865473   \n",
              "1766                            -0.567081             0.347885   \n",
              "\n",
              "     angle(Y,gravityMean) angle(Z,gravityMean) subject Activity ActivityName  \n",
              "1291             0.186842             0.047167      12        1      WALKING  \n",
              "1766            -0.774571            -0.142021      13        6       LAYING  \n",
              "\n",
              "[2 rows x 564 columns]"
            ],
            "text/html": [
              "\n",
              "  <div id=\"df-46737431-9e90-48e0-aaa2-ad0b4cf84373\">\n",
              "    <div class=\"colab-df-container\">\n",
              "      <div>\n",
              "<style scoped>\n",
              "    .dataframe tbody tr th:only-of-type {\n",
              "        vertical-align: middle;\n",
              "    }\n",
              "\n",
              "    .dataframe tbody tr th {\n",
              "        vertical-align: top;\n",
              "    }\n",
              "\n",
              "    .dataframe thead tr th {\n",
              "        text-align: left;\n",
              "    }\n",
              "</style>\n",
              "<table border=\"1\" class=\"dataframe\">\n",
              "  <thead>\n",
              "    <tr>\n",
              "      <th></th>\n",
              "      <th>tBodyAcc-mean()-X</th>\n",
              "      <th>tBodyAcc-mean()-Y</th>\n",
              "      <th>tBodyAcc-mean()-Z</th>\n",
              "      <th>tBodyAcc-std()-X</th>\n",
              "      <th>tBodyAcc-std()-Y</th>\n",
              "      <th>tBodyAcc-std()-Z</th>\n",
              "      <th>tBodyAcc-mad()-X</th>\n",
              "      <th>tBodyAcc-mad()-Y</th>\n",
              "      <th>tBodyAcc-mad()-Z</th>\n",
              "      <th>tBodyAcc-max()-X</th>\n",
              "      <th>...</th>\n",
              "      <th>angle(tBodyAccMean,gravity)</th>\n",
              "      <th>angle(tBodyAccJerkMean),gravityMean)</th>\n",
              "      <th>angle(tBodyGyroMean,gravityMean)</th>\n",
              "      <th>angle(tBodyGyroJerkMean,gravityMean)</th>\n",
              "      <th>angle(X,gravityMean)</th>\n",
              "      <th>angle(Y,gravityMean)</th>\n",
              "      <th>angle(Z,gravityMean)</th>\n",
              "      <th>subject</th>\n",
              "      <th>Activity</th>\n",
              "      <th>ActivityName</th>\n",
              "    </tr>\n",
              "  </thead>\n",
              "  <tbody>\n",
              "    <tr>\n",
              "      <th>1291</th>\n",
              "      <td>0.199898</td>\n",
              "      <td>-0.004180</td>\n",
              "      <td>-0.118058</td>\n",
              "      <td>-0.235225</td>\n",
              "      <td>-0.213449</td>\n",
              "      <td>-0.350522</td>\n",
              "      <td>-0.296159</td>\n",
              "      <td>-0.246252</td>\n",
              "      <td>-0.350766</td>\n",
              "      <td>0.018885</td>\n",
              "      <td>...</td>\n",
              "      <td>0.788674</td>\n",
              "      <td>-0.908509</td>\n",
              "      <td>-0.386591</td>\n",
              "      <td>0.703830</td>\n",
              "      <td>-0.865473</td>\n",
              "      <td>0.186842</td>\n",
              "      <td>0.047167</td>\n",
              "      <td>12</td>\n",
              "      <td>1</td>\n",
              "      <td>WALKING</td>\n",
              "    </tr>\n",
              "    <tr>\n",
              "      <th>1766</th>\n",
              "      <td>0.271549</td>\n",
              "      <td>-0.016906</td>\n",
              "      <td>-0.110770</td>\n",
              "      <td>-0.996921</td>\n",
              "      <td>-0.989715</td>\n",
              "      <td>-0.986132</td>\n",
              "      <td>-0.997300</td>\n",
              "      <td>-0.988802</td>\n",
              "      <td>-0.984284</td>\n",
              "      <td>-0.941987</td>\n",
              "      <td>...</td>\n",
              "      <td>0.162022</td>\n",
              "      <td>-0.701201</td>\n",
              "      <td>0.410483</td>\n",
              "      <td>-0.567081</td>\n",
              "      <td>0.347885</td>\n",
              "      <td>-0.774571</td>\n",
              "      <td>-0.142021</td>\n",
              "      <td>13</td>\n",
              "      <td>6</td>\n",
              "      <td>LAYING</td>\n",
              "    </tr>\n",
              "  </tbody>\n",
              "</table>\n",
              "<p>2 rows × 564 columns</p>\n",
              "</div>\n",
              "      <button class=\"colab-df-convert\" onclick=\"convertToInteractive('df-46737431-9e90-48e0-aaa2-ad0b4cf84373')\"\n",
              "              title=\"Convert this dataframe to an interactive table.\"\n",
              "              style=\"display:none;\">\n",
              "        \n",
              "  <svg xmlns=\"http://www.w3.org/2000/svg\" height=\"24px\"viewBox=\"0 0 24 24\"\n",
              "       width=\"24px\">\n",
              "    <path d=\"M0 0h24v24H0V0z\" fill=\"none\"/>\n",
              "    <path d=\"M18.56 5.44l.94 2.06.94-2.06 2.06-.94-2.06-.94-.94-2.06-.94 2.06-2.06.94zm-11 1L8.5 8.5l.94-2.06 2.06-.94-2.06-.94L8.5 2.5l-.94 2.06-2.06.94zm10 10l.94 2.06.94-2.06 2.06-.94-2.06-.94-.94-2.06-.94 2.06-2.06.94z\"/><path d=\"M17.41 7.96l-1.37-1.37c-.4-.4-.92-.59-1.43-.59-.52 0-1.04.2-1.43.59L10.3 9.45l-7.72 7.72c-.78.78-.78 2.05 0 2.83L4 21.41c.39.39.9.59 1.41.59.51 0 1.02-.2 1.41-.59l7.78-7.78 2.81-2.81c.8-.78.8-2.07 0-2.86zM5.41 20L4 18.59l7.72-7.72 1.47 1.35L5.41 20z\"/>\n",
              "  </svg>\n",
              "      </button>\n",
              "      \n",
              "  <style>\n",
              "    .colab-df-container {\n",
              "      display:flex;\n",
              "      flex-wrap:wrap;\n",
              "      gap: 12px;\n",
              "    }\n",
              "\n",
              "    .colab-df-convert {\n",
              "      background-color: #E8F0FE;\n",
              "      border: none;\n",
              "      border-radius: 50%;\n",
              "      cursor: pointer;\n",
              "      display: none;\n",
              "      fill: #1967D2;\n",
              "      height: 32px;\n",
              "      padding: 0 0 0 0;\n",
              "      width: 32px;\n",
              "    }\n",
              "\n",
              "    .colab-df-convert:hover {\n",
              "      background-color: #E2EBFA;\n",
              "      box-shadow: 0px 1px 2px rgba(60, 64, 67, 0.3), 0px 1px 3px 1px rgba(60, 64, 67, 0.15);\n",
              "      fill: #174EA6;\n",
              "    }\n",
              "\n",
              "    [theme=dark] .colab-df-convert {\n",
              "      background-color: #3B4455;\n",
              "      fill: #D2E3FC;\n",
              "    }\n",
              "\n",
              "    [theme=dark] .colab-df-convert:hover {\n",
              "      background-color: #434B5C;\n",
              "      box-shadow: 0px 1px 3px 1px rgba(0, 0, 0, 0.15);\n",
              "      filter: drop-shadow(0px 1px 2px rgba(0, 0, 0, 0.3));\n",
              "      fill: #FFFFFF;\n",
              "    }\n",
              "  </style>\n",
              "\n",
              "      <script>\n",
              "        const buttonEl =\n",
              "          document.querySelector('#df-46737431-9e90-48e0-aaa2-ad0b4cf84373 button.colab-df-convert');\n",
              "        buttonEl.style.display =\n",
              "          google.colab.kernel.accessAllowed ? 'block' : 'none';\n",
              "\n",
              "        async function convertToInteractive(key) {\n",
              "          const element = document.querySelector('#df-46737431-9e90-48e0-aaa2-ad0b4cf84373');\n",
              "          const dataTable =\n",
              "            await google.colab.kernel.invokeFunction('convertToInteractive',\n",
              "                                                     [key], {});\n",
              "          if (!dataTable) return;\n",
              "\n",
              "          const docLinkHtml = 'Like what you see? Visit the ' +\n",
              "            '<a target=\"_blank\" href=https://colab.research.google.com/notebooks/data_table.ipynb>data table notebook</a>'\n",
              "            + ' to learn more about interactive tables.';\n",
              "          element.innerHTML = '';\n",
              "          dataTable['output_type'] = 'display_data';\n",
              "          await google.colab.output.renderOutput(dataTable, element);\n",
              "          const docLink = document.createElement('div');\n",
              "          docLink.innerHTML = docLinkHtml;\n",
              "          element.appendChild(docLink);\n",
              "        }\n",
              "      </script>\n",
              "    </div>\n",
              "  </div>\n",
              "  "
            ]
          },
          "metadata": {},
          "execution_count": 10
        }
      ]
    },
    {
      "cell_type": "code",
      "source": [
        "test.shape"
      ],
      "metadata": {
        "colab": {
          "base_uri": "https://localhost:8080/"
        },
        "id": "UTy7vsTJ-ngI",
        "outputId": "fc8dc5c0-3363-4f05-bca3-ef810fd4f828"
      },
      "execution_count": null,
      "outputs": [
        {
          "output_type": "execute_result",
          "data": {
            "text/plain": [
              "(2947, 564)"
            ]
          },
          "metadata": {},
          "execution_count": 11
        }
      ]
    },
    {
      "cell_type": "markdown",
      "source": [
        "# Data Cleaning"
      ],
      "metadata": {
        "id": "SjKLTahg_Mzp"
      }
    },
    {
      "cell_type": "markdown",
      "source": [
        "### *Checking for Duplicates*"
      ],
      "metadata": {
        "id": "97mbN53qdUG8"
      }
    },
    {
      "cell_type": "code",
      "source": [
        "print('No of duplicates in train: {}'.format(sum(train.duplicated())))\n",
        "print('No of duplicates in test : {}'.format(sum(test.duplicated())))"
      ],
      "metadata": {
        "id": "Z-oAVZ-3dgHE",
        "colab": {
          "base_uri": "https://localhost:8080/"
        },
        "outputId": "775f7631-1d13-4236-bf15-a8537cada58f"
      },
      "execution_count": null,
      "outputs": [
        {
          "output_type": "stream",
          "name": "stderr",
          "text": [
            "/usr/local/lib/python3.8/dist-packages/IPython/core/interactiveshell.py:2881: PerformanceWarning: indexing past lexsort depth may impact performance.\n",
            "  return runner(coro)\n"
          ]
        },
        {
          "output_type": "stream",
          "name": "stdout",
          "text": [
            "No of duplicates in train: 0\n",
            "No of duplicates in test : 0\n"
          ]
        }
      ]
    },
    {
      "cell_type": "markdown",
      "source": [
        "### *Checking for Null Values*"
      ],
      "metadata": {
        "id": "w4w_g_pUdi-Z"
      }
    },
    {
      "cell_type": "code",
      "source": [
        "print('We have {} NaN/Null values in train'.format(train.isnull().values.sum()))\n",
        "print('We have {} NaN/Null values in test'.format(test.isnull().values.sum()))"
      ],
      "metadata": {
        "id": "ZQscMSSqdoed",
        "colab": {
          "base_uri": "https://localhost:8080/"
        },
        "outputId": "19a47442-b6bd-4967-d8ea-b1fa2a1ef69e"
      },
      "execution_count": null,
      "outputs": [
        {
          "output_type": "stream",
          "name": "stdout",
          "text": [
            "We have 0 NaN/Null values in train\n",
            "We have 0 NaN/Null values in test\n"
          ]
        }
      ]
    },
    {
      "cell_type": "code",
      "source": [
        "train.to_csv('train.csv', index=False)\n",
        "test.to_csv('test.csv', index=False)"
      ],
      "metadata": {
        "id": "nWZbbFvBAyIG"
      },
      "execution_count": null,
      "outputs": []
    },
    {
      "cell_type": "markdown",
      "source": [
        "### *Changing Feature Names*"
      ],
      "metadata": {
        "id": "JsDgDR84d9jB"
      }
    },
    {
      "cell_type": "code",
      "source": [
        "train = pd.read_csv('train.csv')\n",
        "test = pd.read_csv('test.csv')\n",
        "print(train.shape, test.shape)"
      ],
      "metadata": {
        "colab": {
          "base_uri": "https://localhost:8080/"
        },
        "id": "xnCGJWfmA4cg",
        "outputId": "5cdfc2c6-0b65-42f1-93dd-05a0a3c024a6"
      },
      "execution_count": null,
      "outputs": [
        {
          "output_type": "stream",
          "name": "stdout",
          "text": [
            "(7352, 564) (2947, 564)\n"
          ]
        }
      ]
    },
    {
      "cell_type": "code",
      "source": [
        "train.columns"
      ],
      "metadata": {
        "colab": {
          "base_uri": "https://localhost:8080/"
        },
        "id": "qfnGh8ya_wyJ",
        "outputId": "d3cb8024-9eba-4402-fe20-f4d60ff8dcca"
      },
      "execution_count": null,
      "outputs": [
        {
          "output_type": "execute_result",
          "data": {
            "text/plain": [
              "Index(['tBodyAcc-mean()-X', 'tBodyAcc-mean()-Y', 'tBodyAcc-mean()-Z',\n",
              "       'tBodyAcc-std()-X', 'tBodyAcc-std()-Y', 'tBodyAcc-std()-Z',\n",
              "       'tBodyAcc-mad()-X', 'tBodyAcc-mad()-Y', 'tBodyAcc-mad()-Z',\n",
              "       'tBodyAcc-max()-X',\n",
              "       ...\n",
              "       'angle(tBodyAccMean,gravity)', 'angle(tBodyAccJerkMean),gravityMean)',\n",
              "       'angle(tBodyGyroMean,gravityMean)',\n",
              "       'angle(tBodyGyroJerkMean,gravityMean)', 'angle(X,gravityMean)',\n",
              "       'angle(Y,gravityMean)', 'angle(Z,gravityMean)', 'subject', 'Activity',\n",
              "       'ActivityName'],\n",
              "      dtype='object', length=564)"
            ]
          },
          "metadata": {},
          "execution_count": 25
        }
      ]
    },
    {
      "cell_type": "code",
      "source": [
        "columns = train.columns\n",
        "\n",
        "# Removing '()' from column names\n",
        "columns = columns.str.replace('[()]','')\n",
        "columns = columns.str.replace('[-]', '')\n",
        "columns = columns.str.replace('[,]','')\n",
        "\n",
        "train.columns = columns\n",
        "test.columns = columns\n",
        "\n",
        "test.columns"
      ],
      "metadata": {
        "id": "DQhcMG8KeHmV",
        "colab": {
          "base_uri": "https://localhost:8080/"
        },
        "outputId": "e0668122-2eb9-4f9f-99e3-f71fa735d190"
      },
      "execution_count": null,
      "outputs": [
        {
          "output_type": "stream",
          "name": "stderr",
          "text": [
            "<ipython-input-26-d44704abf7e4>:4: FutureWarning: The default value of regex will change from True to False in a future version.\n",
            "  columns = columns.str.replace('[()]','')\n",
            "<ipython-input-26-d44704abf7e4>:5: FutureWarning: The default value of regex will change from True to False in a future version.\n",
            "  columns = columns.str.replace('[-]', '')\n",
            "<ipython-input-26-d44704abf7e4>:6: FutureWarning: The default value of regex will change from True to False in a future version.\n",
            "  columns = columns.str.replace('[,]','')\n"
          ]
        },
        {
          "output_type": "execute_result",
          "data": {
            "text/plain": [
              "Index(['tBodyAccmeanX', 'tBodyAccmeanY', 'tBodyAccmeanZ', 'tBodyAccstdX',\n",
              "       'tBodyAccstdY', 'tBodyAccstdZ', 'tBodyAccmadX', 'tBodyAccmadY',\n",
              "       'tBodyAccmadZ', 'tBodyAccmaxX',\n",
              "       ...\n",
              "       'angletBodyAccMeangravity', 'angletBodyAccJerkMeangravityMean',\n",
              "       'angletBodyGyroMeangravityMean', 'angletBodyGyroJerkMeangravityMean',\n",
              "       'angleXgravityMean', 'angleYgravityMean', 'angleZgravityMean',\n",
              "       'subject', 'Activity', 'ActivityName'],\n",
              "      dtype='object', length=564)"
            ]
          },
          "metadata": {},
          "execution_count": 26
        }
      ]
    },
    {
      "cell_type": "markdown",
      "source": [
        "### *Participant Activity Distributions*"
      ],
      "metadata": {
        "id": "R-QELyZaBFFg"
      }
    },
    {
      "cell_type": "code",
      "source": [
        "sns.set_style('whitegrid')\n",
        "plt.rcParams['font.family'] = 'Dejavu Sans'"
      ],
      "metadata": {
        "id": "hIuAfG9Qdy_0"
      },
      "execution_count": null,
      "outputs": []
    },
    {
      "cell_type": "code",
      "source": [
        "plt.figure(figsize=(16,8))\n",
        "plt.title('Data provided by each user', fontsize=20)\n",
        "sns.countplot(x='subject',hue='ActivityName', data = train)\n",
        "plt.show()"
      ],
      "metadata": {
        "id": "_oJ-hUFtd2oR",
        "colab": {
          "base_uri": "https://localhost:8080/",
          "height": 518
        },
        "outputId": "987b74dc-1f5a-462d-b233-0a92d9cc23aa"
      },
      "execution_count": null,
      "outputs": [
        {
          "output_type": "display_data",
          "data": {
            "text/plain": [
              "<Figure size 1152x576 with 1 Axes>"
            ],
            "image/png": "[encoded data removed]"
          },
          "metadata": {}
        }
      ]
    },
    {
      "cell_type": "markdown",
      "source": [
        "### **Conclusion**: Nearly all participants have more data for walking upstairs than downstairs. Assuming an equal number of up- and down-walks the participants need longer walking upstairs."
      ],
      "metadata": {
        "id": "NFf-zmltBVp2"
      }
    },
    {
      "cell_type": "markdown",
      "source": [
        "### *Checking for data imbalance*"
      ],
      "metadata": {
        "id": "p9vMb5ALdslE"
      }
    },
    {
      "cell_type": "code",
      "source": [
        "plt.title('No of Datapoints per Activity', fontsize=15)\n",
        "sns.countplot(train.ActivityName)\n",
        "plt.xticks(rotation=90)\n",
        "plt.show()"
      ],
      "metadata": {
        "id": "n4Lk-NuVd7g5",
        "colab": {
          "base_uri": "https://localhost:8080/",
          "height": 461
        },
        "outputId": "850626a2-a9e2-4b8e-ae9c-f745afe31eb2"
      },
      "execution_count": null,
      "outputs": [
        {
          "output_type": "stream",
          "name": "stderr",
          "text": [
            "/usr/local/lib/python3.8/dist-packages/seaborn/_decorators.py:36: FutureWarning: Pass the following variable as a keyword arg: x. From version 0.12, the only valid positional argument will be `data`, and passing other arguments without an explicit keyword will result in an error or misinterpretation.\n",
            "  warnings.warn(\n"
          ]
        },
        {
          "output_type": "display_data",
          "data": {
            "text/plain": [
              "<Figure size 432x288 with 1 Axes>"
            ],
            "image/png": "[encoded data removed]"
          },
          "metadata": {}
        }
      ]
    },
    {
      "cell_type": "markdown",
      "source": [
        "### The number of downstairs and upstairs are a bit less than the others but other than that, the labels are mostly balanced"
      ],
      "metadata": {
        "id": "Zo4DSx9mwqMm"
      }
    },
    {
      "cell_type": "markdown",
      "source": [
        "# Feature Extraction\n",
        "\n",
        "Using Principal Component Analysis"
      ],
      "metadata": {
        "id": "duKP7k-WxGJa"
      }
    },
    {
      "cell_type": "code",
      "source": [
        "X_train, y_train = train.iloc[:, :-3].values, train.iloc[:, -2].values\n",
        "X_test, y_test = test.iloc[:, :-3].values, test.iloc[:, -2].values"
      ],
      "metadata": {
        "id": "hk3mUBmdxixb"
      },
      "execution_count": null,
      "outputs": []
    },
    {
      "cell_type": "code",
      "source": [
        "pca = PCA()\n",
        "# Define a Standard Scaler to normalize inputs\n",
        "scaler = StandardScaler()\n",
        "\n",
        "# set the tolerance to a large value to make the example faster\n",
        "clf = sklearn.svm.SVC(gamma='scale', probability=True)\n",
        "pipe = Pipeline(steps=[(\"scaler\", scaler), (\"pca\", pca), (\"classif\", clf)])\n",
        "\n",
        "# Parameters of pipelines can be set using '__' separated parameter names:\n",
        "param_grid = {\n",
        "    \"pca__n_components\": [5, 15, 30, 45, 60, 100, 200]\n",
        "}\n",
        "\n",
        "search = GridSearchCV(pipe, param_grid)"
      ],
      "metadata": {
        "id": "6IqLj3ilGubW"
      },
      "execution_count": null,
      "outputs": []
    },
    {
      "cell_type": "code",
      "source": [
        "search.fit(X_train, y_train)\n",
        "print(\"Best parameter (CV score=%0.3f):\" % search.best_score_)\n",
        "print(search.best_params_)\n",
        "\n",
        "# Plot the PCA spectrum\n",
        "pca.fit(X_train)\n",
        "\n",
        "fig, (ax0, ax1) = plt.subplots(nrows=2, sharex=True, figsize=(10, 10))\n",
        "ax0.plot(\n",
        "    np.arange(1, pca.n_components_ + 1), pca.explained_variance_ratio_, \"+\", linewidth=2\n",
        ")\n",
        "ax0.set_ylabel(\"PCA explained variance ratio\")\n",
        "\n",
        "ax0.axvline(\n",
        "    search.best_estimator_.named_steps[\"pca\"].n_components,\n",
        "    linestyle=\":\",\n",
        "    label=\"n_components chosen\",\n",
        ")\n",
        "ax0.legend(prop=dict(size=12))\n",
        "# For each number of components, find the best classifier results\n",
        "results = pd.DataFrame(search.cv_results_)\n",
        "components_col = \"param_pca__n_components\"\n",
        "best_clfs = results.groupby(components_col).apply(\n",
        "    lambda g: g.nlargest(1, \"mean_test_score\")\n",
        ")\n",
        "\n",
        "best_clfs.plot(\n",
        "    x=components_col, y=\"mean_test_score\", yerr=\"std_test_score\", legend=False, ax=ax1\n",
        ")\n",
        "ax1.set_ylabel(\"Classification accuracy (val)\")\n",
        "ax1.set_xlabel(\"n_components\")\n",
        "\n",
        "plt.xlim(-1, 250)\n",
        "\n",
        "plt.tight_layout()\n",
        "plt.show()"
      ],
      "metadata": {
        "colab": {
          "base_uri": "https://localhost:8080/",
          "height": 764
        },
        "id": "4r1_npBsLViu",
        "outputId": "1b3b3ab1-0cd0-4fc9-eacd-5b6ea80d074a"
      },
      "execution_count": null,
      "outputs": [
        {
          "output_type": "stream",
          "name": "stdout",
          "text": [
            "Best parameter (CV score=0.861):\n",
            "{'pca__n_components': 200}\n"
          ]
        },
        {
          "output_type": "display_data",
          "data": {
            "text/plain": [
              "<Figure size 720x720 with 2 Axes>"
            ],
            "image/png": "[encoded data removed]"
          },
          "metadata": {}
        }
      ]
    },
    {
      "cell_type": "code",
      "source": [
        "scaler = StandardScaler()\n",
        "X_train_scaled = scaler.fit_transform(X_train)\n",
        "pca = PCA(n_components = 100)\n",
        "X_pca = pca.fit_transform(X_train_scaled)\n",
        "\n",
        "plt.figure(figsize=(15, 8))\n",
        "plt.bar(\n",
        "    range(1, len(pca.explained_variance_)+1),\n",
        "    pca.explained_variance_\n",
        ")\n",
        "plt.plot(\n",
        "    range(1,len(pca.explained_variance_ )+1),\n",
        "    np.cumsum(pca.explained_variance_),\n",
        "    c='red',\n",
        "    label='Cumulative Explained Variance'\n",
        ")\n",
        "plt.legend(loc='upper left')\n",
        "\n",
        "plt.xlabel('PCA Feature')\n",
        "plt.ylabel('Explained variance')\n",
        "plt.title('Feature Explained Variance')\n",
        "plt.show()"
      ],
      "metadata": {
        "colab": {
          "base_uri": "https://localhost:8080/",
          "height": 513
        },
        "id": "1noPF7r9VHJR",
        "outputId": "a1cab381-1a9d-4f9d-d98c-bfb1945a0fd3"
      },
      "execution_count": null,
      "outputs": [
        {
          "output_type": "display_data",
          "data": {
            "text/plain": [
              "<Figure size 1080x576 with 1 Axes>"
            ],
            "image/png": "[encoded data removed]"
          },
          "metadata": {}
        }
      ]
    },
    {
      "cell_type": "markdown",
      "source": [
        "### Save PCA Instance"
      ],
      "metadata": {
        "id": "6VkEoGOyejbk"
      }
    },
    {
      "cell_type": "code",
      "source": [
        "import pickle as pk\n",
        "pk.dump(pca, open(\"drive/MyDrive/UCI HAR Dataset/pca.pkl\", \"wb\"))"
      ],
      "metadata": {
        "id": "s3yQZY8Heewj"
      },
      "execution_count": null,
      "outputs": []
    },
    {
      "cell_type": "markdown",
      "source": [
        "## Saving the dataframe in a csv file\n"
      ],
      "metadata": {
        "id": "Ktypei8jeL-8"
      }
    },
    {
      "cell_type": "code",
      "source": [
        "train.to_csv('drive/MyDrive/UCI HAR Dataset/dataset/train.csv', index=False)\n",
        "test.to_csv('drive/MyDrive/UCI HAR Dataset/dataset/test.csv', index=False)"
      ],
      "metadata": {
        "id": "Vbkvkq6HeP6k"
      },
      "execution_count": null,
      "outputs": []
    }
  ]
}